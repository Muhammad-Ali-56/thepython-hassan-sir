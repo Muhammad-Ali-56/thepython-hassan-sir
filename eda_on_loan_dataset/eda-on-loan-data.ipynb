{
 "cells": [
  {
   "cell_type": "code",
   "execution_count": 1,
   "id": "1a001dde",
   "metadata": {
    "_cell_guid": "b1076dfc-b9ad-4769-8c92-a6c4dae69d19",
    "_uuid": "8f2839f25d086af736a60e9eeb907d3b93b6e0e5",
    "execution": {
     "iopub.execute_input": "2022-12-25T16:30:59.385700Z",
     "iopub.status.busy": "2022-12-25T16:30:59.385110Z",
     "iopub.status.idle": "2022-12-25T16:30:59.390859Z",
     "shell.execute_reply": "2022-12-25T16:30:59.391344Z",
     "shell.execute_reply.started": "2022-12-25T15:02:45.237543Z"
    },
    "papermill": {
     "duration": 0.039763,
     "end_time": "2022-12-25T16:30:59.391687",
     "exception": false,
     "start_time": "2022-12-25T16:30:59.351924",
     "status": "completed"
    },
    "tags": []
   },
   "outputs": [],
   "source": [
    "import numpy as np # linear algebra\n",
    "import pandas as pd # data processing, CSV file I/O (e.g. pd.read_csv)"
   ]
  },
  {
   "cell_type": "markdown",
   "id": "12afabc1",
   "metadata": {
    "papermill": {
     "duration": 0.022923,
     "end_time": "2022-12-25T16:30:59.440590",
     "exception": false,
     "start_time": "2022-12-25T16:30:59.417667",
     "status": "completed"
    },
    "tags": []
   },
   "source": [
    "\n",
    "## What is Exploratory Data Analysis(EDA)?\n",
    "If we want to explain EDA in simple terms, it means trying to understand the given data much better, so that we can make some sense out of it. Some insight into data. Primarily EDA is for seeing what the data can tell us beyond the formal modeling or hypothesis testing task.\n",
    "1. EDA is applied to investigate the data and summarize the key insights.\n",
    "2. It will give you the basic understanding of your data, it’s distribution, null values and much more.\n",
    "3. You can either explore data using graphs or through some python functions.\n",
    "\n",
    "### Basically EDA has three types\n",
    "1. Univariate analysis  it means Single varibal without consider relationship with other variable\n",
    "2. Bivariate analysis    It meanns two variabals together and look at the interaction/Relationship between them.\n",
    "3. Multivariate analysis Multivarible relationship with one another"
   ]
  },
  {
   "cell_type": "markdown",
   "id": "915a6aa2",
   "metadata": {
    "papermill": {
     "duration": 0.023751,
     "end_time": "2022-12-25T16:30:59.488263",
     "exception": false,
     "start_time": "2022-12-25T16:30:59.464512",
     "status": "completed"
    },
    "tags": []
   },
   "source": [
    "## Loading data set to pd dataframe"
   ]
  },
  {
   "cell_type": "code",
   "execution_count": 2,
   "id": "4d206c97",
   "metadata": {
    "execution": {
     "iopub.execute_input": "2022-12-25T16:30:59.539678Z",
     "iopub.status.busy": "2022-12-25T16:30:59.539115Z",
     "iopub.status.idle": "2022-12-25T16:30:59.578004Z",
     "shell.execute_reply": "2022-12-25T16:30:59.578606Z",
     "shell.execute_reply.started": "2022-12-25T15:09:37.587643Z"
    },
    "papermill": {
     "duration": 0.066431,
     "end_time": "2022-12-25T16:30:59.578774",
     "exception": false,
     "start_time": "2022-12-25T16:30:59.512343",
     "status": "completed"
    },
    "tags": []
   },
   "outputs": [
    {
     "data": {
      "text/html": [
       "<div>\n",
       "<style scoped>\n",
       "    .dataframe tbody tr th:only-of-type {\n",
       "        vertical-align: middle;\n",
       "    }\n",
       "\n",
       "    .dataframe tbody tr th {\n",
       "        vertical-align: top;\n",
       "    }\n",
       "\n",
       "    .dataframe thead th {\n",
       "        text-align: right;\n",
       "    }\n",
       "</style>\n",
       "<table border=\"1\" class=\"dataframe\">\n",
       "  <thead>\n",
       "    <tr style=\"text-align: right;\">\n",
       "      <th></th>\n",
       "      <th>Unnamed: 0</th>\n",
       "      <th>Unnamed: 0.1</th>\n",
       "      <th>loan_status</th>\n",
       "      <th>Principal</th>\n",
       "      <th>terms</th>\n",
       "      <th>effective_date</th>\n",
       "      <th>due_date</th>\n",
       "      <th>age</th>\n",
       "      <th>education</th>\n",
       "      <th>Gender</th>\n",
       "    </tr>\n",
       "  </thead>\n",
       "  <tbody>\n",
       "    <tr>\n",
       "      <th>0</th>\n",
       "      <td>0</td>\n",
       "      <td>0</td>\n",
       "      <td>PAIDOFF</td>\n",
       "      <td>1000</td>\n",
       "      <td>30</td>\n",
       "      <td>9/8/2016</td>\n",
       "      <td>10/7/2016</td>\n",
       "      <td>45</td>\n",
       "      <td>High School or Below</td>\n",
       "      <td>male</td>\n",
       "    </tr>\n",
       "    <tr>\n",
       "      <th>1</th>\n",
       "      <td>2</td>\n",
       "      <td>2</td>\n",
       "      <td>PAIDOFF</td>\n",
       "      <td>1000</td>\n",
       "      <td>30</td>\n",
       "      <td>9/8/2016</td>\n",
       "      <td>10/7/2016</td>\n",
       "      <td>33</td>\n",
       "      <td>Bechalor</td>\n",
       "      <td>female</td>\n",
       "    </tr>\n",
       "    <tr>\n",
       "      <th>2</th>\n",
       "      <td>3</td>\n",
       "      <td>3</td>\n",
       "      <td>PAIDOFF</td>\n",
       "      <td>1000</td>\n",
       "      <td>15</td>\n",
       "      <td>9/8/2016</td>\n",
       "      <td>9/22/2016</td>\n",
       "      <td>27</td>\n",
       "      <td>college</td>\n",
       "      <td>male</td>\n",
       "    </tr>\n",
       "    <tr>\n",
       "      <th>3</th>\n",
       "      <td>4</td>\n",
       "      <td>4</td>\n",
       "      <td>PAIDOFF</td>\n",
       "      <td>1000</td>\n",
       "      <td>30</td>\n",
       "      <td>9/9/2016</td>\n",
       "      <td>10/8/2016</td>\n",
       "      <td>28</td>\n",
       "      <td>college</td>\n",
       "      <td>female</td>\n",
       "    </tr>\n",
       "    <tr>\n",
       "      <th>4</th>\n",
       "      <td>6</td>\n",
       "      <td>6</td>\n",
       "      <td>PAIDOFF</td>\n",
       "      <td>1000</td>\n",
       "      <td>30</td>\n",
       "      <td>9/9/2016</td>\n",
       "      <td>10/8/2016</td>\n",
       "      <td>29</td>\n",
       "      <td>college</td>\n",
       "      <td>male</td>\n",
       "    </tr>\n",
       "  </tbody>\n",
       "</table>\n",
       "</div>"
      ],
      "text/plain": [
       "   Unnamed: 0  Unnamed: 0.1 loan_status  Principal  terms effective_date  \\\n",
       "0           0             0     PAIDOFF       1000     30       9/8/2016   \n",
       "1           2             2     PAIDOFF       1000     30       9/8/2016   \n",
       "2           3             3     PAIDOFF       1000     15       9/8/2016   \n",
       "3           4             4     PAIDOFF       1000     30       9/9/2016   \n",
       "4           6             6     PAIDOFF       1000     30       9/9/2016   \n",
       "\n",
       "    due_date  age             education  Gender  \n",
       "0  10/7/2016   45  High School or Below    male  \n",
       "1  10/7/2016   33              Bechalor  female  \n",
       "2  9/22/2016   27               college    male  \n",
       "3  10/8/2016   28               college  female  \n",
       "4  10/8/2016   29               college    male  "
      ]
     },
     "execution_count": 2,
     "metadata": {},
     "output_type": "execute_result"
    }
   ],
   "source": [
    "df = pd.read_csv('/kaggle/input/loan-dataset/loan.csv')\n",
    "df.head()"
   ]
  },
  {
   "cell_type": "markdown",
   "id": "1c6128f0",
   "metadata": {
    "papermill": {
     "duration": 0.023657,
     "end_time": "2022-12-25T16:30:59.627383",
     "exception": false,
     "start_time": "2022-12-25T16:30:59.603726",
     "status": "completed"
    },
    "tags": []
   },
   "source": [
    "As you see above we have some Unnamed columns which are not part or not import for furthe analysis like Unammed:0 and 0.1 so we have to drop it."
   ]
  },
  {
   "cell_type": "code",
   "execution_count": 3,
   "id": "efd4023d",
   "metadata": {
    "execution": {
     "iopub.execute_input": "2022-12-25T16:30:59.676279Z",
     "iopub.status.busy": "2022-12-25T16:30:59.675788Z",
     "iopub.status.idle": "2022-12-25T16:30:59.690262Z",
     "shell.execute_reply": "2022-12-25T16:30:59.689821Z",
     "shell.execute_reply.started": "2022-12-25T15:09:57.376643Z"
    },
    "papermill": {
     "duration": 0.039758,
     "end_time": "2022-12-25T16:30:59.690415",
     "exception": false,
     "start_time": "2022-12-25T16:30:59.650657",
     "status": "completed"
    },
    "tags": []
   },
   "outputs": [],
   "source": [
    "df.drop('Unnamed: 0', axis=1, inplace=True)\n",
    "df.drop('Unnamed: 0.1', axis=1, inplace=True)"
   ]
  },
  {
   "cell_type": "code",
   "execution_count": 4,
   "id": "6fffbf3a",
   "metadata": {
    "execution": {
     "iopub.execute_input": "2022-12-25T16:30:59.750699Z",
     "iopub.status.busy": "2022-12-25T16:30:59.749987Z",
     "iopub.status.idle": "2022-12-25T16:30:59.754297Z",
     "shell.execute_reply": "2022-12-25T16:30:59.753859Z",
     "shell.execute_reply.started": "2022-12-25T15:09:58.617399Z"
    },
    "papermill": {
     "duration": 0.040519,
     "end_time": "2022-12-25T16:30:59.754443",
     "exception": false,
     "start_time": "2022-12-25T16:30:59.713924",
     "status": "completed"
    },
    "tags": []
   },
   "outputs": [
    {
     "data": {
      "text/html": [
       "<div>\n",
       "<style scoped>\n",
       "    .dataframe tbody tr th:only-of-type {\n",
       "        vertical-align: middle;\n",
       "    }\n",
       "\n",
       "    .dataframe tbody tr th {\n",
       "        vertical-align: top;\n",
       "    }\n",
       "\n",
       "    .dataframe thead th {\n",
       "        text-align: right;\n",
       "    }\n",
       "</style>\n",
       "<table border=\"1\" class=\"dataframe\">\n",
       "  <thead>\n",
       "    <tr style=\"text-align: right;\">\n",
       "      <th></th>\n",
       "      <th>loan_status</th>\n",
       "      <th>Principal</th>\n",
       "      <th>terms</th>\n",
       "      <th>effective_date</th>\n",
       "      <th>due_date</th>\n",
       "      <th>age</th>\n",
       "      <th>education</th>\n",
       "      <th>Gender</th>\n",
       "    </tr>\n",
       "  </thead>\n",
       "  <tbody>\n",
       "    <tr>\n",
       "      <th>0</th>\n",
       "      <td>PAIDOFF</td>\n",
       "      <td>1000</td>\n",
       "      <td>30</td>\n",
       "      <td>9/8/2016</td>\n",
       "      <td>10/7/2016</td>\n",
       "      <td>45</td>\n",
       "      <td>High School or Below</td>\n",
       "      <td>male</td>\n",
       "    </tr>\n",
       "    <tr>\n",
       "      <th>1</th>\n",
       "      <td>PAIDOFF</td>\n",
       "      <td>1000</td>\n",
       "      <td>30</td>\n",
       "      <td>9/8/2016</td>\n",
       "      <td>10/7/2016</td>\n",
       "      <td>33</td>\n",
       "      <td>Bechalor</td>\n",
       "      <td>female</td>\n",
       "    </tr>\n",
       "    <tr>\n",
       "      <th>2</th>\n",
       "      <td>PAIDOFF</td>\n",
       "      <td>1000</td>\n",
       "      <td>15</td>\n",
       "      <td>9/8/2016</td>\n",
       "      <td>9/22/2016</td>\n",
       "      <td>27</td>\n",
       "      <td>college</td>\n",
       "      <td>male</td>\n",
       "    </tr>\n",
       "    <tr>\n",
       "      <th>3</th>\n",
       "      <td>PAIDOFF</td>\n",
       "      <td>1000</td>\n",
       "      <td>30</td>\n",
       "      <td>9/9/2016</td>\n",
       "      <td>10/8/2016</td>\n",
       "      <td>28</td>\n",
       "      <td>college</td>\n",
       "      <td>female</td>\n",
       "    </tr>\n",
       "    <tr>\n",
       "      <th>4</th>\n",
       "      <td>PAIDOFF</td>\n",
       "      <td>1000</td>\n",
       "      <td>30</td>\n",
       "      <td>9/9/2016</td>\n",
       "      <td>10/8/2016</td>\n",
       "      <td>29</td>\n",
       "      <td>college</td>\n",
       "      <td>male</td>\n",
       "    </tr>\n",
       "  </tbody>\n",
       "</table>\n",
       "</div>"
      ],
      "text/plain": [
       "  loan_status  Principal  terms effective_date   due_date  age  \\\n",
       "0     PAIDOFF       1000     30       9/8/2016  10/7/2016   45   \n",
       "1     PAIDOFF       1000     30       9/8/2016  10/7/2016   33   \n",
       "2     PAIDOFF       1000     15       9/8/2016  9/22/2016   27   \n",
       "3     PAIDOFF       1000     30       9/9/2016  10/8/2016   28   \n",
       "4     PAIDOFF       1000     30       9/9/2016  10/8/2016   29   \n",
       "\n",
       "              education  Gender  \n",
       "0  High School or Below    male  \n",
       "1              Bechalor  female  \n",
       "2               college    male  \n",
       "3               college  female  \n",
       "4               college    male  "
      ]
     },
     "execution_count": 4,
     "metadata": {},
     "output_type": "execute_result"
    }
   ],
   "source": [
    "df.head()"
   ]
  },
  {
   "cell_type": "code",
   "execution_count": 5,
   "id": "51154566",
   "metadata": {
    "execution": {
     "iopub.execute_input": "2022-12-25T16:30:59.814335Z",
     "iopub.status.busy": "2022-12-25T16:30:59.813591Z",
     "iopub.status.idle": "2022-12-25T16:30:59.818130Z",
     "shell.execute_reply": "2022-12-25T16:30:59.817679Z",
     "shell.execute_reply.started": "2022-12-25T15:10:17.494378Z"
    },
    "papermill": {
     "duration": 0.039808,
     "end_time": "2022-12-25T16:30:59.818251",
     "exception": false,
     "start_time": "2022-12-25T16:30:59.778443",
     "status": "completed"
    },
    "tags": []
   },
   "outputs": [
    {
     "data": {
      "text/html": [
       "<div>\n",
       "<style scoped>\n",
       "    .dataframe tbody tr th:only-of-type {\n",
       "        vertical-align: middle;\n",
       "    }\n",
       "\n",
       "    .dataframe tbody tr th {\n",
       "        vertical-align: top;\n",
       "    }\n",
       "\n",
       "    .dataframe thead th {\n",
       "        text-align: right;\n",
       "    }\n",
       "</style>\n",
       "<table border=\"1\" class=\"dataframe\">\n",
       "  <thead>\n",
       "    <tr style=\"text-align: right;\">\n",
       "      <th></th>\n",
       "      <th>loan_status</th>\n",
       "      <th>Principal</th>\n",
       "      <th>terms</th>\n",
       "      <th>effective_date</th>\n",
       "      <th>due_date</th>\n",
       "      <th>age</th>\n",
       "      <th>education</th>\n",
       "      <th>Gender</th>\n",
       "    </tr>\n",
       "  </thead>\n",
       "  <tbody>\n",
       "    <tr>\n",
       "      <th>341</th>\n",
       "      <td>COLLECTION</td>\n",
       "      <td>800</td>\n",
       "      <td>15</td>\n",
       "      <td>9/11/2016</td>\n",
       "      <td>9/25/2016</td>\n",
       "      <td>32</td>\n",
       "      <td>High School or Below</td>\n",
       "      <td>male</td>\n",
       "    </tr>\n",
       "    <tr>\n",
       "      <th>342</th>\n",
       "      <td>COLLECTION</td>\n",
       "      <td>1000</td>\n",
       "      <td>30</td>\n",
       "      <td>9/11/2016</td>\n",
       "      <td>10/10/2016</td>\n",
       "      <td>25</td>\n",
       "      <td>High School or Below</td>\n",
       "      <td>male</td>\n",
       "    </tr>\n",
       "    <tr>\n",
       "      <th>343</th>\n",
       "      <td>COLLECTION</td>\n",
       "      <td>800</td>\n",
       "      <td>15</td>\n",
       "      <td>9/12/2016</td>\n",
       "      <td>9/26/2016</td>\n",
       "      <td>39</td>\n",
       "      <td>college</td>\n",
       "      <td>male</td>\n",
       "    </tr>\n",
       "    <tr>\n",
       "      <th>344</th>\n",
       "      <td>COLLECTION</td>\n",
       "      <td>1000</td>\n",
       "      <td>30</td>\n",
       "      <td>9/12/2016</td>\n",
       "      <td>11/10/2016</td>\n",
       "      <td>28</td>\n",
       "      <td>college</td>\n",
       "      <td>male</td>\n",
       "    </tr>\n",
       "    <tr>\n",
       "      <th>345</th>\n",
       "      <td>COLLECTION</td>\n",
       "      <td>1000</td>\n",
       "      <td>30</td>\n",
       "      <td>9/12/2016</td>\n",
       "      <td>10/11/2016</td>\n",
       "      <td>26</td>\n",
       "      <td>college</td>\n",
       "      <td>male</td>\n",
       "    </tr>\n",
       "  </tbody>\n",
       "</table>\n",
       "</div>"
      ],
      "text/plain": [
       "    loan_status  Principal  terms effective_date    due_date  age  \\\n",
       "341  COLLECTION        800     15      9/11/2016   9/25/2016   32   \n",
       "342  COLLECTION       1000     30      9/11/2016  10/10/2016   25   \n",
       "343  COLLECTION        800     15      9/12/2016   9/26/2016   39   \n",
       "344  COLLECTION       1000     30      9/12/2016  11/10/2016   28   \n",
       "345  COLLECTION       1000     30      9/12/2016  10/11/2016   26   \n",
       "\n",
       "                education Gender  \n",
       "341  High School or Below   male  \n",
       "342  High School or Below   male  \n",
       "343               college   male  \n",
       "344               college   male  \n",
       "345               college   male  "
      ]
     },
     "execution_count": 5,
     "metadata": {},
     "output_type": "execute_result"
    }
   ],
   "source": [
    "df.tail()"
   ]
  },
  {
   "cell_type": "markdown",
   "id": "c817931d",
   "metadata": {
    "papermill": {
     "duration": 0.023349,
     "end_time": "2022-12-25T16:30:59.865202",
     "exception": false,
     "start_time": "2022-12-25T16:30:59.841853",
     "status": "completed"
    },
    "tags": []
   },
   "source": [
    "### Formating of date and time column"
   ]
  },
  {
   "cell_type": "code",
   "execution_count": 6,
   "id": "cb061e8f",
   "metadata": {
    "execution": {
     "iopub.execute_input": "2022-12-25T16:30:59.923747Z",
     "iopub.status.busy": "2022-12-25T16:30:59.919369Z",
     "iopub.status.idle": "2022-12-25T16:30:59.931020Z",
     "shell.execute_reply": "2022-12-25T16:30:59.931451Z",
     "shell.execute_reply.started": "2022-12-25T15:10:25.567396Z"
    },
    "papermill": {
     "duration": 0.042126,
     "end_time": "2022-12-25T16:30:59.931639",
     "exception": false,
     "start_time": "2022-12-25T16:30:59.889513",
     "status": "completed"
    },
    "tags": []
   },
   "outputs": [],
   "source": [
    "df['effective_date'] = pd.to_datetime(df['effective_date'])\n",
    "df['due_date'] = pd.to_datetime(df['due_date'])"
   ]
  },
  {
   "cell_type": "code",
   "execution_count": 7,
   "id": "42408930",
   "metadata": {
    "execution": {
     "iopub.execute_input": "2022-12-25T16:30:59.995863Z",
     "iopub.status.busy": "2022-12-25T16:30:59.985742Z",
     "iopub.status.idle": "2022-12-25T16:30:59.998209Z",
     "shell.execute_reply": "2022-12-25T16:30:59.998703Z",
     "shell.execute_reply.started": "2022-12-25T15:10:27.173622Z"
    },
    "papermill": {
     "duration": 0.040945,
     "end_time": "2022-12-25T16:30:59.998871",
     "exception": false,
     "start_time": "2022-12-25T16:30:59.957926",
     "status": "completed"
    },
    "tags": []
   },
   "outputs": [
    {
     "data": {
      "text/html": [
       "<div>\n",
       "<style scoped>\n",
       "    .dataframe tbody tr th:only-of-type {\n",
       "        vertical-align: middle;\n",
       "    }\n",
       "\n",
       "    .dataframe tbody tr th {\n",
       "        vertical-align: top;\n",
       "    }\n",
       "\n",
       "    .dataframe thead th {\n",
       "        text-align: right;\n",
       "    }\n",
       "</style>\n",
       "<table border=\"1\" class=\"dataframe\">\n",
       "  <thead>\n",
       "    <tr style=\"text-align: right;\">\n",
       "      <th></th>\n",
       "      <th>loan_status</th>\n",
       "      <th>Principal</th>\n",
       "      <th>terms</th>\n",
       "      <th>effective_date</th>\n",
       "      <th>due_date</th>\n",
       "      <th>age</th>\n",
       "      <th>education</th>\n",
       "      <th>Gender</th>\n",
       "    </tr>\n",
       "  </thead>\n",
       "  <tbody>\n",
       "    <tr>\n",
       "      <th>0</th>\n",
       "      <td>PAIDOFF</td>\n",
       "      <td>1000</td>\n",
       "      <td>30</td>\n",
       "      <td>2016-09-08</td>\n",
       "      <td>2016-10-07</td>\n",
       "      <td>45</td>\n",
       "      <td>High School or Below</td>\n",
       "      <td>male</td>\n",
       "    </tr>\n",
       "    <tr>\n",
       "      <th>1</th>\n",
       "      <td>PAIDOFF</td>\n",
       "      <td>1000</td>\n",
       "      <td>30</td>\n",
       "      <td>2016-09-08</td>\n",
       "      <td>2016-10-07</td>\n",
       "      <td>33</td>\n",
       "      <td>Bechalor</td>\n",
       "      <td>female</td>\n",
       "    </tr>\n",
       "    <tr>\n",
       "      <th>2</th>\n",
       "      <td>PAIDOFF</td>\n",
       "      <td>1000</td>\n",
       "      <td>15</td>\n",
       "      <td>2016-09-08</td>\n",
       "      <td>2016-09-22</td>\n",
       "      <td>27</td>\n",
       "      <td>college</td>\n",
       "      <td>male</td>\n",
       "    </tr>\n",
       "    <tr>\n",
       "      <th>3</th>\n",
       "      <td>PAIDOFF</td>\n",
       "      <td>1000</td>\n",
       "      <td>30</td>\n",
       "      <td>2016-09-09</td>\n",
       "      <td>2016-10-08</td>\n",
       "      <td>28</td>\n",
       "      <td>college</td>\n",
       "      <td>female</td>\n",
       "    </tr>\n",
       "    <tr>\n",
       "      <th>4</th>\n",
       "      <td>PAIDOFF</td>\n",
       "      <td>1000</td>\n",
       "      <td>30</td>\n",
       "      <td>2016-09-09</td>\n",
       "      <td>2016-10-08</td>\n",
       "      <td>29</td>\n",
       "      <td>college</td>\n",
       "      <td>male</td>\n",
       "    </tr>\n",
       "  </tbody>\n",
       "</table>\n",
       "</div>"
      ],
      "text/plain": [
       "  loan_status  Principal  terms effective_date   due_date  age  \\\n",
       "0     PAIDOFF       1000     30     2016-09-08 2016-10-07   45   \n",
       "1     PAIDOFF       1000     30     2016-09-08 2016-10-07   33   \n",
       "2     PAIDOFF       1000     15     2016-09-08 2016-09-22   27   \n",
       "3     PAIDOFF       1000     30     2016-09-09 2016-10-08   28   \n",
       "4     PAIDOFF       1000     30     2016-09-09 2016-10-08   29   \n",
       "\n",
       "              education  Gender  \n",
       "0  High School or Below    male  \n",
       "1              Bechalor  female  \n",
       "2               college    male  \n",
       "3               college  female  \n",
       "4               college    male  "
      ]
     },
     "execution_count": 7,
     "metadata": {},
     "output_type": "execute_result"
    }
   ],
   "source": [
    "df.head()"
   ]
  },
  {
   "cell_type": "markdown",
   "id": "04f69f94",
   "metadata": {
    "papermill": {
     "duration": 0.02641,
     "end_time": "2022-12-25T16:31:00.049705",
     "exception": false,
     "start_time": "2022-12-25T16:31:00.023295",
     "status": "completed"
    },
    "tags": []
   },
   "source": [
    "### Null values "
   ]
  },
  {
   "cell_type": "code",
   "execution_count": 8,
   "id": "2f12b062",
   "metadata": {
    "execution": {
     "iopub.execute_input": "2022-12-25T16:31:00.107297Z",
     "iopub.status.busy": "2022-12-25T16:31:00.106744Z",
     "iopub.status.idle": "2022-12-25T16:31:09.347605Z",
     "shell.execute_reply": "2022-12-25T16:31:09.348061Z",
     "shell.execute_reply.started": "2022-12-25T15:10:51.191799Z"
    },
    "papermill": {
     "duration": 9.272769,
     "end_time": "2022-12-25T16:31:09.348224",
     "exception": false,
     "start_time": "2022-12-25T16:31:00.075455",
     "status": "completed"
    },
    "tags": []
   },
   "outputs": [
    {
     "data": {
      "image/png": "[encoded data removed]",
      "text/plain": [
       "<Figure size 720x576 with 2 Axes>"
      ]
     },
     "metadata": {
      "needs_background": "light"
     },
     "output_type": "display_data"
    }
   ],
   "source": [
    "import seaborn as sns\n",
    "import matplotlib.pyplot as plt\n",
    "plt.figure(figsize=(10,8))\n",
    "sns.heatmap(df.isnull(),cmap='YlGnBu',annot=True);"
   ]
  },
  {
   "cell_type": "markdown",
   "id": "4bf0b716",
   "metadata": {
    "papermill": {
     "duration": 0.026338,
     "end_time": "2022-12-25T16:31:09.400613",
     "exception": false,
     "start_time": "2022-12-25T16:31:09.374275",
     "status": "completed"
    },
    "tags": []
   },
   "source": [
    "The graph shows that we have not a single null value so we will also use this with python function isnull with sum."
   ]
  },
  {
   "cell_type": "code",
   "execution_count": 9,
   "id": "334908dc",
   "metadata": {
    "execution": {
     "iopub.execute_input": "2022-12-25T16:31:09.458728Z",
     "iopub.status.busy": "2022-12-25T16:31:09.458126Z",
     "iopub.status.idle": "2022-12-25T16:31:09.465865Z",
     "shell.execute_reply": "2022-12-25T16:31:09.465344Z",
     "shell.execute_reply.started": "2022-12-25T15:12:56.896812Z"
    },
    "papermill": {
     "duration": 0.039274,
     "end_time": "2022-12-25T16:31:09.465998",
     "exception": false,
     "start_time": "2022-12-25T16:31:09.426724",
     "status": "completed"
    },
    "tags": []
   },
   "outputs": [
    {
     "data": {
      "text/plain": [
       "loan_status       0\n",
       "Principal         0\n",
       "terms             0\n",
       "effective_date    0\n",
       "due_date          0\n",
       "age               0\n",
       "education         0\n",
       "Gender            0\n",
       "dtype: int64"
      ]
     },
     "execution_count": 9,
     "metadata": {},
     "output_type": "execute_result"
    }
   ],
   "source": [
    "df.isnull().sum()"
   ]
  },
  {
   "cell_type": "markdown",
   "id": "4bdf87e7",
   "metadata": {
    "papermill": {
     "duration": 0.027545,
     "end_time": "2022-12-25T16:31:09.520741",
     "exception": false,
     "start_time": "2022-12-25T16:31:09.493196",
     "status": "completed"
    },
    "tags": []
   },
   "source": [
    "The color of heatmap is full so it means that there is no any null value found on dataset"
   ]
  },
  {
   "cell_type": "code",
   "execution_count": 10,
   "id": "134a4671",
   "metadata": {
    "execution": {
     "iopub.execute_input": "2022-12-25T16:31:09.585577Z",
     "iopub.status.busy": "2022-12-25T16:31:09.584976Z",
     "iopub.status.idle": "2022-12-25T16:31:09.596440Z",
     "shell.execute_reply": "2022-12-25T16:31:09.596825Z",
     "shell.execute_reply.started": "2022-12-25T15:13:10.689939Z"
    },
    "papermill": {
     "duration": 0.048499,
     "end_time": "2022-12-25T16:31:09.597001",
     "exception": false,
     "start_time": "2022-12-25T16:31:09.548502",
     "status": "completed"
    },
    "tags": []
   },
   "outputs": [
    {
     "name": "stdout",
     "output_type": "stream",
     "text": [
      "<class 'pandas.core.frame.DataFrame'>\n",
      "RangeIndex: 346 entries, 0 to 345\n",
      "Data columns (total 8 columns):\n",
      " #   Column          Non-Null Count  Dtype         \n",
      "---  ------          --------------  -----         \n",
      " 0   loan_status     346 non-null    object        \n",
      " 1   Principal       346 non-null    int64         \n",
      " 2   terms           346 non-null    int64         \n",
      " 3   effective_date  346 non-null    datetime64[ns]\n",
      " 4   due_date        346 non-null    datetime64[ns]\n",
      " 5   age             346 non-null    int64         \n",
      " 6   education       346 non-null    object        \n",
      " 7   Gender          346 non-null    object        \n",
      "dtypes: datetime64[ns](2), int64(3), object(3)\n",
      "memory usage: 21.8+ KB\n"
     ]
    }
   ],
   "source": [
    "df.info()"
   ]
  },
  {
   "cell_type": "code",
   "execution_count": 11,
   "id": "f2a88656",
   "metadata": {
    "execution": {
     "iopub.execute_input": "2022-12-25T16:31:09.659021Z",
     "iopub.status.busy": "2022-12-25T16:31:09.658249Z",
     "iopub.status.idle": "2022-12-25T16:31:09.675864Z",
     "shell.execute_reply": "2022-12-25T16:31:09.675273Z",
     "shell.execute_reply.started": "2022-12-25T15:13:22.573133Z"
    },
    "papermill": {
     "duration": 0.051193,
     "end_time": "2022-12-25T16:31:09.675993",
     "exception": false,
     "start_time": "2022-12-25T16:31:09.624800",
     "status": "completed"
    },
    "tags": []
   },
   "outputs": [
    {
     "data": {
      "text/html": [
       "<div>\n",
       "<style scoped>\n",
       "    .dataframe tbody tr th:only-of-type {\n",
       "        vertical-align: middle;\n",
       "    }\n",
       "\n",
       "    .dataframe tbody tr th {\n",
       "        vertical-align: top;\n",
       "    }\n",
       "\n",
       "    .dataframe thead th {\n",
       "        text-align: right;\n",
       "    }\n",
       "</style>\n",
       "<table border=\"1\" class=\"dataframe\">\n",
       "  <thead>\n",
       "    <tr style=\"text-align: right;\">\n",
       "      <th></th>\n",
       "      <th>Principal</th>\n",
       "      <th>terms</th>\n",
       "      <th>age</th>\n",
       "    </tr>\n",
       "  </thead>\n",
       "  <tbody>\n",
       "    <tr>\n",
       "      <th>count</th>\n",
       "      <td>346.000000</td>\n",
       "      <td>346.000000</td>\n",
       "      <td>346.000000</td>\n",
       "    </tr>\n",
       "    <tr>\n",
       "      <th>mean</th>\n",
       "      <td>943.641618</td>\n",
       "      <td>22.653179</td>\n",
       "      <td>30.939306</td>\n",
       "    </tr>\n",
       "    <tr>\n",
       "      <th>std</th>\n",
       "      <td>109.425530</td>\n",
       "      <td>7.991006</td>\n",
       "      <td>6.039418</td>\n",
       "    </tr>\n",
       "    <tr>\n",
       "      <th>min</th>\n",
       "      <td>300.000000</td>\n",
       "      <td>7.000000</td>\n",
       "      <td>18.000000</td>\n",
       "    </tr>\n",
       "    <tr>\n",
       "      <th>25%</th>\n",
       "      <td>900.000000</td>\n",
       "      <td>15.000000</td>\n",
       "      <td>27.000000</td>\n",
       "    </tr>\n",
       "    <tr>\n",
       "      <th>50%</th>\n",
       "      <td>1000.000000</td>\n",
       "      <td>30.000000</td>\n",
       "      <td>30.000000</td>\n",
       "    </tr>\n",
       "    <tr>\n",
       "      <th>75%</th>\n",
       "      <td>1000.000000</td>\n",
       "      <td>30.000000</td>\n",
       "      <td>35.000000</td>\n",
       "    </tr>\n",
       "    <tr>\n",
       "      <th>max</th>\n",
       "      <td>1000.000000</td>\n",
       "      <td>30.000000</td>\n",
       "      <td>51.000000</td>\n",
       "    </tr>\n",
       "  </tbody>\n",
       "</table>\n",
       "</div>"
      ],
      "text/plain": [
       "         Principal       terms         age\n",
       "count   346.000000  346.000000  346.000000\n",
       "mean    943.641618   22.653179   30.939306\n",
       "std     109.425530    7.991006    6.039418\n",
       "min     300.000000    7.000000   18.000000\n",
       "25%     900.000000   15.000000   27.000000\n",
       "50%    1000.000000   30.000000   30.000000\n",
       "75%    1000.000000   30.000000   35.000000\n",
       "max    1000.000000   30.000000   51.000000"
      ]
     },
     "execution_count": 11,
     "metadata": {},
     "output_type": "execute_result"
    }
   ],
   "source": [
    "df.describe()"
   ]
  },
  {
   "cell_type": "code",
   "execution_count": 12,
   "id": "c654221e",
   "metadata": {
    "execution": {
     "iopub.execute_input": "2022-12-25T16:31:09.738941Z",
     "iopub.status.busy": "2022-12-25T16:31:09.738148Z",
     "iopub.status.idle": "2022-12-25T16:31:09.744131Z",
     "shell.execute_reply": "2022-12-25T16:31:09.743597Z",
     "shell.execute_reply.started": "2022-12-25T15:13:29.622802Z"
    },
    "papermill": {
     "duration": 0.040339,
     "end_time": "2022-12-25T16:31:09.744272",
     "exception": false,
     "start_time": "2022-12-25T16:31:09.703933",
     "status": "completed"
    },
    "tags": []
   },
   "outputs": [
    {
     "data": {
      "text/plain": [
       "Index(['loan_status', 'Principal', 'terms', 'effective_date', 'due_date',\n",
       "       'age', 'education', 'Gender'],\n",
       "      dtype='object')"
      ]
     },
     "execution_count": 12,
     "metadata": {},
     "output_type": "execute_result"
    }
   ],
   "source": [
    "df.columns"
   ]
  },
  {
   "cell_type": "code",
   "execution_count": 13,
   "id": "a0a28507",
   "metadata": {
    "execution": {
     "iopub.execute_input": "2022-12-25T16:31:09.814931Z",
     "iopub.status.busy": "2022-12-25T16:31:09.814148Z",
     "iopub.status.idle": "2022-12-25T16:31:12.538273Z",
     "shell.execute_reply": "2022-12-25T16:31:12.537662Z",
     "shell.execute_reply.started": "2022-12-25T15:13:31.164183Z"
    },
    "papermill": {
     "duration": 2.765834,
     "end_time": "2022-12-25T16:31:12.538466",
     "exception": false,
     "start_time": "2022-12-25T16:31:09.772632",
     "status": "completed"
    },
    "tags": []
   },
   "outputs": [
    {
     "data": {
      "text/plain": [
       "<Figure size 432x288 with 0 Axes>"
      ]
     },
     "metadata": {},
     "output_type": "display_data"
    },
    {
     "data": {
      "image/png": "[encoded data removed]",
      "text/plain": [
       "<Figure size 638.875x540 with 12 Axes>"
      ]
     },
     "metadata": {
      "needs_background": "light"
     },
     "output_type": "display_data"
    }
   ],
   "source": [
    "plt.figure(figsize=(6,4))\n",
    "sns.pairplot(df, hue='loan_status');"
   ]
  },
  {
   "cell_type": "code",
   "execution_count": 14,
   "id": "433202a5",
   "metadata": {
    "execution": {
     "iopub.execute_input": "2022-12-25T16:31:12.604150Z",
     "iopub.status.busy": "2022-12-25T16:31:12.603588Z",
     "iopub.status.idle": "2022-12-25T16:31:12.607442Z",
     "shell.execute_reply": "2022-12-25T16:31:12.606879Z",
     "shell.execute_reply.started": "2022-12-25T15:13:43.396614Z"
    },
    "papermill": {
     "duration": 0.039526,
     "end_time": "2022-12-25T16:31:12.607565",
     "exception": false,
     "start_time": "2022-12-25T16:31:12.568039",
     "status": "completed"
    },
    "tags": []
   },
   "outputs": [
    {
     "data": {
      "text/plain": [
       "PAIDOFF       260\n",
       "COLLECTION     86\n",
       "Name: loan_status, dtype: int64"
      ]
     },
     "execution_count": 14,
     "metadata": {},
     "output_type": "execute_result"
    }
   ],
   "source": [
    "df['loan_status'].value_counts()"
   ]
  },
  {
   "cell_type": "markdown",
   "id": "3b2fa8b9",
   "metadata": {
    "papermill": {
     "duration": 0.029748,
     "end_time": "2022-12-25T16:31:12.668196",
     "exception": false,
     "start_time": "2022-12-25T16:31:12.638448",
     "status": "completed"
    },
    "tags": []
   },
   "source": [
    "Let's have see it visually"
   ]
  },
  {
   "cell_type": "code",
   "execution_count": 15,
   "id": "4ddfedb0",
   "metadata": {
    "execution": {
     "iopub.execute_input": "2022-12-25T16:31:12.733281Z",
     "iopub.status.busy": "2022-12-25T16:31:12.732504Z",
     "iopub.status.idle": "2022-12-25T16:31:12.865267Z",
     "shell.execute_reply": "2022-12-25T16:31:12.864804Z",
     "shell.execute_reply.started": "2022-12-25T15:14:12.967509Z"
    },
    "papermill": {
     "duration": 0.167597,
     "end_time": "2022-12-25T16:31:12.865425",
     "exception": false,
     "start_time": "2022-12-25T16:31:12.697828",
     "status": "completed"
    },
    "tags": []
   },
   "outputs": [
    {
     "data": {
      "image/png": "[encoded data removed]",
      "text/plain": [
       "<Figure size 576x432 with 1 Axes>"
      ]
     },
     "metadata": {},
     "output_type": "display_data"
    }
   ],
   "source": [
    "sns.set_style(\"darkgrid\")\n",
    "plt.figure(figsize=(8,6))\n",
    "sns.countplot(x='loan_status', data=df);"
   ]
  },
  {
   "cell_type": "code",
   "execution_count": 16,
   "id": "fcc03ecf",
   "metadata": {
    "execution": {
     "iopub.execute_input": "2022-12-25T16:31:12.959119Z",
     "iopub.status.busy": "2022-12-25T16:31:12.930630Z",
     "iopub.status.idle": "2022-12-25T16:31:13.476695Z",
     "shell.execute_reply": "2022-12-25T16:31:13.477142Z",
     "shell.execute_reply.started": "2022-12-25T15:14:32.236867Z"
    },
    "papermill": {
     "duration": 0.58105,
     "end_time": "2022-12-25T16:31:13.477314",
     "exception": false,
     "start_time": "2022-12-25T16:31:12.896264",
     "status": "completed"
    },
    "tags": []
   },
   "outputs": [
    {
     "data": {
      "text/plain": [
       "<Figure size 1080x720 with 0 Axes>"
      ]
     },
     "metadata": {},
     "output_type": "display_data"
    },
    {
     "data": {
      "image/png": "[encoded data removed]",
      "text/plain": [
       "<Figure size 432x216 with 2 Axes>"
      ]
     },
     "metadata": {},
     "output_type": "display_data"
    }
   ],
   "source": [
    "plt.figure(figsize=(15,10))\n",
    "bins = np.linspace(df.Principal.min(), df.Principal.max(), 10)\n",
    "g = sns.FacetGrid(df, col=\"Gender\", hue=\"loan_status\", palette=\"Set1\", col_wrap=2)\n",
    "g.map(plt.hist, 'Principal', bins=bins, ec=\"k\")\n",
    "\n",
    "g.axes[-1].legend()\n",
    "\n",
    "plt.show();"
   ]
  },
  {
   "cell_type": "code",
   "execution_count": 17,
   "id": "91bb590d",
   "metadata": {
    "execution": {
     "iopub.execute_input": "2022-12-25T16:31:13.610039Z",
     "iopub.status.busy": "2022-12-25T16:31:13.609142Z",
     "iopub.status.idle": "2022-12-25T16:31:14.171968Z",
     "shell.execute_reply": "2022-12-25T16:31:14.171333Z",
     "shell.execute_reply.started": "2022-12-25T15:14:44.758376Z"
    },
    "papermill": {
     "duration": 0.662362,
     "end_time": "2022-12-25T16:31:14.172150",
     "exception": false,
     "start_time": "2022-12-25T16:31:13.509788",
     "status": "completed"
    },
    "tags": []
   },
   "outputs": [
    {
     "data": {
      "text/plain": [
       "<Figure size 720x576 with 0 Axes>"
      ]
     },
     "metadata": {},
     "output_type": "display_data"
    },
    {
     "data": {
      "image/png": "[encoded data removed]",
      "text/plain": [
       "<Figure size 432x216 with 2 Axes>"
      ]
     },
     "metadata": {},
     "output_type": "display_data"
    }
   ],
   "source": [
    "plt.figure(figsize=(10,8))\n",
    "bins = np.linspace(df.age.min(), df.age.max(), 10)\n",
    "g = sns.FacetGrid(df, col=\"Gender\", hue=\"loan_status\", palette=\"Set1\", col_wrap=2)\n",
    "g.map(plt.hist, 'age', bins=bins, ec=\"k\")\n",
    "\n",
    "g.axes[-1].legend()\n",
    "plt.show();"
   ]
  },
  {
   "cell_type": "code",
   "execution_count": 18,
   "id": "b35313e2",
   "metadata": {
    "execution": {
     "iopub.execute_input": "2022-12-25T16:31:14.244799Z",
     "iopub.status.busy": "2022-12-25T16:31:14.244098Z",
     "iopub.status.idle": "2022-12-25T16:31:14.263248Z",
     "shell.execute_reply": "2022-12-25T16:31:14.263686Z",
     "shell.execute_reply.started": "2022-12-25T15:14:47.057607Z"
    },
    "papermill": {
     "duration": 0.056388,
     "end_time": "2022-12-25T16:31:14.263863",
     "exception": false,
     "start_time": "2022-12-25T16:31:14.207475",
     "status": "completed"
    },
    "tags": []
   },
   "outputs": [
    {
     "data": {
      "text/html": [
       "<div>\n",
       "<style scoped>\n",
       "    .dataframe tbody tr th:only-of-type {\n",
       "        vertical-align: middle;\n",
       "    }\n",
       "\n",
       "    .dataframe tbody tr th {\n",
       "        vertical-align: top;\n",
       "    }\n",
       "\n",
       "    .dataframe thead th {\n",
       "        text-align: right;\n",
       "    }\n",
       "</style>\n",
       "<table border=\"1\" class=\"dataframe\">\n",
       "  <thead>\n",
       "    <tr style=\"text-align: right;\">\n",
       "      <th></th>\n",
       "      <th>Principal</th>\n",
       "      <th>terms</th>\n",
       "      <th>age</th>\n",
       "    </tr>\n",
       "  </thead>\n",
       "  <tbody>\n",
       "    <tr>\n",
       "      <th>count</th>\n",
       "      <td>346.000000</td>\n",
       "      <td>346.000000</td>\n",
       "      <td>346.000000</td>\n",
       "    </tr>\n",
       "    <tr>\n",
       "      <th>mean</th>\n",
       "      <td>943.641618</td>\n",
       "      <td>22.653179</td>\n",
       "      <td>30.939306</td>\n",
       "    </tr>\n",
       "    <tr>\n",
       "      <th>std</th>\n",
       "      <td>109.425530</td>\n",
       "      <td>7.991006</td>\n",
       "      <td>6.039418</td>\n",
       "    </tr>\n",
       "    <tr>\n",
       "      <th>min</th>\n",
       "      <td>300.000000</td>\n",
       "      <td>7.000000</td>\n",
       "      <td>18.000000</td>\n",
       "    </tr>\n",
       "    <tr>\n",
       "      <th>25%</th>\n",
       "      <td>900.000000</td>\n",
       "      <td>15.000000</td>\n",
       "      <td>27.000000</td>\n",
       "    </tr>\n",
       "    <tr>\n",
       "      <th>50%</th>\n",
       "      <td>1000.000000</td>\n",
       "      <td>30.000000</td>\n",
       "      <td>30.000000</td>\n",
       "    </tr>\n",
       "    <tr>\n",
       "      <th>75%</th>\n",
       "      <td>1000.000000</td>\n",
       "      <td>30.000000</td>\n",
       "      <td>35.000000</td>\n",
       "    </tr>\n",
       "    <tr>\n",
       "      <th>max</th>\n",
       "      <td>1000.000000</td>\n",
       "      <td>30.000000</td>\n",
       "      <td>51.000000</td>\n",
       "    </tr>\n",
       "  </tbody>\n",
       "</table>\n",
       "</div>"
      ],
      "text/plain": [
       "         Principal       terms         age\n",
       "count   346.000000  346.000000  346.000000\n",
       "mean    943.641618   22.653179   30.939306\n",
       "std     109.425530    7.991006    6.039418\n",
       "min     300.000000    7.000000   18.000000\n",
       "25%     900.000000   15.000000   27.000000\n",
       "50%    1000.000000   30.000000   30.000000\n",
       "75%    1000.000000   30.000000   35.000000\n",
       "max    1000.000000   30.000000   51.000000"
      ]
     },
     "execution_count": 18,
     "metadata": {},
     "output_type": "execute_result"
    }
   ],
   "source": [
    "df.describe()"
   ]
  },
  {
   "cell_type": "code",
   "execution_count": 19,
   "id": "987c0989",
   "metadata": {
    "execution": {
     "iopub.execute_input": "2022-12-25T16:31:14.341316Z",
     "iopub.status.busy": "2022-12-25T16:31:14.332990Z",
     "iopub.status.idle": "2022-12-25T16:31:14.345041Z",
     "shell.execute_reply": "2022-12-25T16:31:14.345688Z",
     "shell.execute_reply.started": "2022-12-25T15:14:53.439597Z"
    },
    "papermill": {
     "duration": 0.048606,
     "end_time": "2022-12-25T16:31:14.345895",
     "exception": false,
     "start_time": "2022-12-25T16:31:14.297289",
     "status": "completed"
    },
    "tags": []
   },
   "outputs": [
    {
     "data": {
      "text/html": [
       "<div>\n",
       "<style scoped>\n",
       "    .dataframe tbody tr th:only-of-type {\n",
       "        vertical-align: middle;\n",
       "    }\n",
       "\n",
       "    .dataframe tbody tr th {\n",
       "        vertical-align: top;\n",
       "    }\n",
       "\n",
       "    .dataframe thead th {\n",
       "        text-align: right;\n",
       "    }\n",
       "</style>\n",
       "<table border=\"1\" class=\"dataframe\">\n",
       "  <thead>\n",
       "    <tr style=\"text-align: right;\">\n",
       "      <th></th>\n",
       "      <th>Principal</th>\n",
       "      <th>terms</th>\n",
       "      <th>age</th>\n",
       "    </tr>\n",
       "  </thead>\n",
       "  <tbody>\n",
       "    <tr>\n",
       "      <th>Principal</th>\n",
       "      <td>1.000000</td>\n",
       "      <td>0.521876</td>\n",
       "      <td>-0.060893</td>\n",
       "    </tr>\n",
       "    <tr>\n",
       "      <th>terms</th>\n",
       "      <td>0.521876</td>\n",
       "      <td>1.000000</td>\n",
       "      <td>-0.064762</td>\n",
       "    </tr>\n",
       "    <tr>\n",
       "      <th>age</th>\n",
       "      <td>-0.060893</td>\n",
       "      <td>-0.064762</td>\n",
       "      <td>1.000000</td>\n",
       "    </tr>\n",
       "  </tbody>\n",
       "</table>\n",
       "</div>"
      ],
      "text/plain": [
       "           Principal     terms       age\n",
       "Principal   1.000000  0.521876 -0.060893\n",
       "terms       0.521876  1.000000 -0.064762\n",
       "age        -0.060893 -0.064762  1.000000"
      ]
     },
     "execution_count": 19,
     "metadata": {},
     "output_type": "execute_result"
    }
   ],
   "source": [
    "df.corr()"
   ]
  },
  {
   "cell_type": "code",
   "execution_count": 20,
   "id": "68dcbd8b",
   "metadata": {
    "execution": {
     "iopub.execute_input": "2022-12-25T16:31:14.437112Z",
     "iopub.status.busy": "2022-12-25T16:31:14.436590Z",
     "iopub.status.idle": "2022-12-25T16:31:14.700080Z",
     "shell.execute_reply": "2022-12-25T16:31:14.700559Z",
     "shell.execute_reply.started": "2022-12-25T15:15:02.547485Z"
    },
    "papermill": {
     "duration": 0.309003,
     "end_time": "2022-12-25T16:31:14.700748",
     "exception": false,
     "start_time": "2022-12-25T16:31:14.391745",
     "status": "completed"
    },
    "tags": []
   },
   "outputs": [
    {
     "data": {
      "image/png": "[encoded data removed]",
      "text/plain": [
       "<Figure size 720x576 with 2 Axes>"
      ]
     },
     "metadata": {},
     "output_type": "display_data"
    }
   ],
   "source": [
    "plt.figure(figsize=(10,8))\n",
    "sns.heatmap(df.corr(),cmap='YlGnBu',annot=True);"
   ]
  },
  {
   "cell_type": "code",
   "execution_count": 21,
   "id": "c5f17f0e",
   "metadata": {
    "execution": {
     "iopub.execute_input": "2022-12-25T16:31:14.772560Z",
     "iopub.status.busy": "2022-12-25T16:31:14.772060Z",
     "iopub.status.idle": "2022-12-25T16:31:14.779550Z",
     "shell.execute_reply": "2022-12-25T16:31:14.779966Z",
     "shell.execute_reply.started": "2022-12-25T15:16:17.649436Z"
    },
    "papermill": {
     "duration": 0.045234,
     "end_time": "2022-12-25T16:31:14.780155",
     "exception": false,
     "start_time": "2022-12-25T16:31:14.734921",
     "status": "completed"
    },
    "tags": []
   },
   "outputs": [
    {
     "data": {
      "text/plain": [
       "High School or Below    151\n",
       "college                 149\n",
       "Bechalor                 44\n",
       "Master or Above           2\n",
       "Name: education, dtype: int64"
      ]
     },
     "execution_count": 21,
     "metadata": {},
     "output_type": "execute_result"
    }
   ],
   "source": [
    "#let see the education columns\n",
    "edu = df['education'].value_counts()\n",
    "edu"
   ]
  },
  {
   "cell_type": "code",
   "execution_count": 22,
   "id": "c3183829",
   "metadata": {
    "execution": {
     "iopub.execute_input": "2022-12-25T16:31:14.874847Z",
     "iopub.status.busy": "2022-12-25T16:31:14.874163Z",
     "iopub.status.idle": "2022-12-25T16:31:15.060141Z",
     "shell.execute_reply": "2022-12-25T16:31:15.059552Z",
     "shell.execute_reply.started": "2022-12-25T15:22:20.232103Z"
    },
    "papermill": {
     "duration": 0.245318,
     "end_time": "2022-12-25T16:31:15.060284",
     "exception": false,
     "start_time": "2022-12-25T16:31:14.814966",
     "status": "completed"
    },
    "tags": []
   },
   "outputs": [
    {
     "data": {
      "image/png": "[encoded data removed]",
      "text/plain": [
       "<Figure size 864x576 with 1 Axes>"
      ]
     },
     "metadata": {},
     "output_type": "display_data"
    }
   ],
   "source": [
    "top_edu_ins = df.education.value_counts()\n",
    "fig, ax = plt.subplots(figsize=(12,8))\n",
    "ax.set_ylim([0,20])\n",
    "ax.set_ylabel(\"Count\")\n",
    "ax.set_title(\"Top Educated personality\")\n",
    "\n",
    "sns.barplot( x = top_edu_ins.index, y = top_edu_ins, orient='v');\n",
    "plt.show()"
   ]
  },
  {
   "cell_type": "markdown",
   "id": "2916bb4e",
   "metadata": {
    "papermill": {
     "duration": 0.034911,
     "end_time": "2022-12-25T16:31:15.132450",
     "exception": false,
     "start_time": "2022-12-25T16:31:15.097539",
     "status": "completed"
    },
    "tags": []
   },
   "source": [
    "Dealing with loan personality are mostly belong to high school or below and college some bechalor but little are belongs to Master and above."
   ]
  },
  {
   "cell_type": "markdown",
   "id": "2cfe10cd",
   "metadata": {
    "papermill": {
     "duration": 0.035168,
     "end_time": "2022-12-25T16:31:15.203592",
     "exception": false,
     "start_time": "2022-12-25T16:31:15.168424",
     "status": "completed"
    },
    "tags": []
   },
   "source": [
    "## Gender \n",
    "- How many male or female are there who particpated\n"
   ]
  },
  {
   "cell_type": "code",
   "execution_count": 23,
   "id": "4ef6b38b",
   "metadata": {
    "execution": {
     "iopub.execute_input": "2022-12-25T16:31:15.280826Z",
     "iopub.status.busy": "2022-12-25T16:31:15.280246Z",
     "iopub.status.idle": "2022-12-25T16:31:15.282987Z",
     "shell.execute_reply": "2022-12-25T16:31:15.283368Z",
     "shell.execute_reply.started": "2022-12-25T15:35:28.028142Z"
    },
    "papermill": {
     "duration": 0.046265,
     "end_time": "2022-12-25T16:31:15.283547",
     "exception": false,
     "start_time": "2022-12-25T16:31:15.237282",
     "status": "completed"
    },
    "tags": []
   },
   "outputs": [
    {
     "data": {
      "text/plain": [
       "male      294\n",
       "female     52\n",
       "Name: Gender, dtype: int64"
      ]
     },
     "execution_count": 23,
     "metadata": {},
     "output_type": "execute_result"
    }
   ],
   "source": [
    "genders = df['Gender'].value_counts()\n",
    "genders"
   ]
  },
  {
   "cell_type": "code",
   "execution_count": 24,
   "id": "6561f983",
   "metadata": {
    "execution": {
     "iopub.execute_input": "2022-12-25T16:31:15.360097Z",
     "iopub.status.busy": "2022-12-25T16:31:15.359496Z",
     "iopub.status.idle": "2022-12-25T16:31:15.497967Z",
     "shell.execute_reply": "2022-12-25T16:31:15.498505Z",
     "shell.execute_reply.started": "2022-12-25T15:38:36.306324Z"
    },
    "papermill": {
     "duration": 0.179741,
     "end_time": "2022-12-25T16:31:15.498714",
     "exception": false,
     "start_time": "2022-12-25T16:31:15.318973",
     "status": "completed"
    },
    "tags": []
   },
   "outputs": [
    {
     "data": {
      "image/png": "[encoded data removed]",
      "text/plain": [
       "<Figure size 576x432 with 1 Axes>"
      ]
     },
     "metadata": {},
     "output_type": "display_data"
    }
   ],
   "source": [
    "plt.figure(figsize=(8,6))\n",
    "sns.countplot(x=genders.index)\n",
    "plt.show();"
   ]
  },
  {
   "cell_type": "code",
   "execution_count": 25,
   "id": "eaedaf98",
   "metadata": {
    "execution": {
     "iopub.execute_input": "2022-12-25T16:31:15.581154Z",
     "iopub.status.busy": "2022-12-25T16:31:15.580538Z",
     "iopub.status.idle": "2022-12-25T16:31:15.840200Z",
     "shell.execute_reply": "2022-12-25T16:31:15.840656Z",
     "shell.execute_reply.started": "2022-12-25T16:10:19.462146Z"
    },
    "papermill": {
     "duration": 0.301597,
     "end_time": "2022-12-25T16:31:15.840840",
     "exception": false,
     "start_time": "2022-12-25T16:31:15.539243",
     "status": "completed"
    },
    "tags": []
   },
   "outputs": [
    {
     "data": {
      "image/png": "[encoded data removed]",
      "text/plain": [
       "<Figure size 360x360 with 1 Axes>"
      ]
     },
     "metadata": {},
     "output_type": "display_data"
    }
   ],
   "source": [
    "g = sns.catplot(x=\"loan_status\", data=df, kind=\"count\")"
   ]
  },
  {
   "cell_type": "code",
   "execution_count": 26,
   "id": "5de0eb34",
   "metadata": {
    "execution": {
     "iopub.execute_input": "2022-12-25T16:31:15.920233Z",
     "iopub.status.busy": "2022-12-25T16:31:15.919695Z",
     "iopub.status.idle": "2022-12-25T16:31:15.926427Z",
     "shell.execute_reply": "2022-12-25T16:31:15.925908Z",
     "shell.execute_reply.started": "2022-12-25T16:02:33.736342Z"
    },
    "papermill": {
     "duration": 0.047127,
     "end_time": "2022-12-25T16:31:15.926585",
     "exception": false,
     "start_time": "2022-12-25T16:31:15.879458",
     "status": "completed"
    },
    "tags": []
   },
   "outputs": [
    {
     "data": {
      "text/plain": [
       "Index(['loan_status', 'Principal', 'terms', 'effective_date', 'due_date',\n",
       "       'age', 'education', 'Gender'],\n",
       "      dtype='object')"
      ]
     },
     "execution_count": 26,
     "metadata": {},
     "output_type": "execute_result"
    }
   ],
   "source": [
    "df.columns"
   ]
  },
  {
   "cell_type": "code",
   "execution_count": null,
   "id": "60b71121",
   "metadata": {
    "papermill": {
     "duration": 0.038485,
     "end_time": "2022-12-25T16:31:16.004237",
     "exception": false,
     "start_time": "2022-12-25T16:31:15.965752",
     "status": "completed"
    },
    "tags": []
   },
   "outputs": [],
   "source": []
  }
 ],
 "metadata": {
  "kernelspec": {
   "display_name": "Python 3",
   "language": "python",
   "name": "python3"
  },
  "language_info": {
   "codemirror_mode": {
    "name": "ipython",
    "version": 3
   },
   "file_extension": ".py",
   "mimetype": "text/x-python",
   "name": "python",
   "nbconvert_exporter": "python",
   "pygments_lexer": "ipython3",
   "version": "3.7.10"
  },
  "papermill": {
   "default_parameters": {},
   "duration": 27.049159,
   "end_time": "2022-12-25T16:31:17.815094",
   "environment_variables": {},
   "exception": null,
   "input_path": "__notebook__.ipynb",
   "output_path": "__notebook__.ipynb",
   "parameters": {},
   "start_time": "2022-12-25T16:30:50.765935",
   "version": "2.3.3"
  }
 },
 "nbformat": 4,
 "nbformat_minor": 5
}
