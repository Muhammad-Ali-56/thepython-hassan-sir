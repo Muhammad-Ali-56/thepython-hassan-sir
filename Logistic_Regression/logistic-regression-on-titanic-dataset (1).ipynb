{
 "cells": [
  {
   "cell_type": "code",
   "execution_count": 1,
   "id": "assisted-system",
   "metadata": {
    "_cell_guid": "b1076dfc-b9ad-4769-8c92-a6c4dae69d19",
    "_uuid": "8f2839f25d086af736a60e9eeb907d3b93b6e0e5",
    "execution": {
     "iopub.execute_input": "2022-12-25T17:36:07.871617Z",
     "iopub.status.busy": "2022-12-25T17:36:07.870350Z",
     "iopub.status.idle": "2022-12-25T17:36:07.878953Z",
     "shell.execute_reply": "2022-12-25T17:36:07.879635Z",
     "shell.execute_reply.started": "2022-12-25T17:11:34.583111Z"
    },
    "papermill": {
     "duration": 0.051491,
     "end_time": "2022-12-25T17:36:07.879942",
     "exception": false,
     "start_time": "2022-12-25T17:36:07.828451",
     "status": "completed"
    },
    "tags": []
   },
   "outputs": [],
   "source": [
    "#Importing Libraries\n",
    "\n",
    "import numpy as np # linear algebra\n",
    "import pandas as pd # data processing, CSV file I/O (e.g. pd.read_csv)\n",
    "import os"
   ]
  },
  {
   "cell_type": "markdown",
   "id": "intensive-guitar",
   "metadata": {
    "papermill": {
     "duration": 0.038079,
     "end_time": "2022-12-25T17:36:07.956956",
     "exception": false,
     "start_time": "2022-12-25T17:36:07.918877",
     "status": "completed"
    },
    "tags": []
   },
   "source": [
    "# Reading Data \n",
    "Here is our first line of code where we load the data and read the data of csv file (comma separated value) into pandas dataframe."
   ]
  },
  {
   "cell_type": "code",
   "execution_count": 2,
   "id": "three-screening",
   "metadata": {
    "execution": {
     "iopub.execute_input": "2022-12-25T17:36:08.036967Z",
     "iopub.status.busy": "2022-12-25T17:36:08.036343Z",
     "iopub.status.idle": "2022-12-25T17:36:08.060951Z",
     "shell.execute_reply": "2022-12-25T17:36:08.060377Z",
     "shell.execute_reply.started": "2022-12-25T17:11:41.651183Z"
    },
    "papermill": {
     "duration": 0.064567,
     "end_time": "2022-12-25T17:36:08.061128",
     "exception": false,
     "start_time": "2022-12-25T17:36:07.996561",
     "status": "completed"
    },
    "tags": []
   },
   "outputs": [],
   "source": [
    "df = pd.read_csv('/kaggle/input/titanic/train.csv')"
   ]
  },
  {
   "cell_type": "code",
   "execution_count": 3,
   "id": "latest-catering",
   "metadata": {
    "execution": {
     "iopub.execute_input": "2022-12-25T17:36:08.147272Z",
     "iopub.status.busy": "2022-12-25T17:36:08.146290Z",
     "iopub.status.idle": "2022-12-25T17:36:08.170544Z",
     "shell.execute_reply": "2022-12-25T17:36:08.171038Z",
     "shell.execute_reply.started": "2022-12-25T17:11:42.037321Z"
    },
    "papermill": {
     "duration": 0.072684,
     "end_time": "2022-12-25T17:36:08.171240",
     "exception": false,
     "start_time": "2022-12-25T17:36:08.098556",
     "status": "completed"
    },
    "tags": []
   },
   "outputs": [
    {
     "data": {
      "text/html": [
       "<div>\n",
       "<style scoped>\n",
       "    .dataframe tbody tr th:only-of-type {\n",
       "        vertical-align: middle;\n",
       "    }\n",
       "\n",
       "    .dataframe tbody tr th {\n",
       "        vertical-align: top;\n",
       "    }\n",
       "\n",
       "    .dataframe thead th {\n",
       "        text-align: right;\n",
       "    }\n",
       "</style>\n",
       "<table border=\"1\" class=\"dataframe\">\n",
       "  <thead>\n",
       "    <tr style=\"text-align: right;\">\n",
       "      <th></th>\n",
       "      <th>PassengerId</th>\n",
       "      <th>Survived</th>\n",
       "      <th>Pclass</th>\n",
       "      <th>Name</th>\n",
       "      <th>Sex</th>\n",
       "      <th>Age</th>\n",
       "      <th>SibSp</th>\n",
       "      <th>Parch</th>\n",
       "      <th>Ticket</th>\n",
       "      <th>Fare</th>\n",
       "      <th>Cabin</th>\n",
       "      <th>Embarked</th>\n",
       "    </tr>\n",
       "  </thead>\n",
       "  <tbody>\n",
       "    <tr>\n",
       "      <th>0</th>\n",
       "      <td>1</td>\n",
       "      <td>0</td>\n",
       "      <td>3</td>\n",
       "      <td>Braund, Mr. Owen Harris</td>\n",
       "      <td>male</td>\n",
       "      <td>22.0</td>\n",
       "      <td>1</td>\n",
       "      <td>0</td>\n",
       "      <td>A/5 21171</td>\n",
       "      <td>7.2500</td>\n",
       "      <td>NaN</td>\n",
       "      <td>S</td>\n",
       "    </tr>\n",
       "    <tr>\n",
       "      <th>1</th>\n",
       "      <td>2</td>\n",
       "      <td>1</td>\n",
       "      <td>1</td>\n",
       "      <td>Cumings, Mrs. John Bradley (Florence Briggs Th...</td>\n",
       "      <td>female</td>\n",
       "      <td>38.0</td>\n",
       "      <td>1</td>\n",
       "      <td>0</td>\n",
       "      <td>PC 17599</td>\n",
       "      <td>71.2833</td>\n",
       "      <td>C85</td>\n",
       "      <td>C</td>\n",
       "    </tr>\n",
       "    <tr>\n",
       "      <th>2</th>\n",
       "      <td>3</td>\n",
       "      <td>1</td>\n",
       "      <td>3</td>\n",
       "      <td>Heikkinen, Miss. Laina</td>\n",
       "      <td>female</td>\n",
       "      <td>26.0</td>\n",
       "      <td>0</td>\n",
       "      <td>0</td>\n",
       "      <td>STON/O2. 3101282</td>\n",
       "      <td>7.9250</td>\n",
       "      <td>NaN</td>\n",
       "      <td>S</td>\n",
       "    </tr>\n",
       "    <tr>\n",
       "      <th>3</th>\n",
       "      <td>4</td>\n",
       "      <td>1</td>\n",
       "      <td>1</td>\n",
       "      <td>Futrelle, Mrs. Jacques Heath (Lily May Peel)</td>\n",
       "      <td>female</td>\n",
       "      <td>35.0</td>\n",
       "      <td>1</td>\n",
       "      <td>0</td>\n",
       "      <td>113803</td>\n",
       "      <td>53.1000</td>\n",
       "      <td>C123</td>\n",
       "      <td>S</td>\n",
       "    </tr>\n",
       "    <tr>\n",
       "      <th>4</th>\n",
       "      <td>5</td>\n",
       "      <td>0</td>\n",
       "      <td>3</td>\n",
       "      <td>Allen, Mr. William Henry</td>\n",
       "      <td>male</td>\n",
       "      <td>35.0</td>\n",
       "      <td>0</td>\n",
       "      <td>0</td>\n",
       "      <td>373450</td>\n",
       "      <td>8.0500</td>\n",
       "      <td>NaN</td>\n",
       "      <td>S</td>\n",
       "    </tr>\n",
       "  </tbody>\n",
       "</table>\n",
       "</div>"
      ],
      "text/plain": [
       "   PassengerId  Survived  Pclass  \\\n",
       "0            1         0       3   \n",
       "1            2         1       1   \n",
       "2            3         1       3   \n",
       "3            4         1       1   \n",
       "4            5         0       3   \n",
       "\n",
       "                                                Name     Sex   Age  SibSp  \\\n",
       "0                            Braund, Mr. Owen Harris    male  22.0      1   \n",
       "1  Cumings, Mrs. John Bradley (Florence Briggs Th...  female  38.0      1   \n",
       "2                             Heikkinen, Miss. Laina  female  26.0      0   \n",
       "3       Futrelle, Mrs. Jacques Heath (Lily May Peel)  female  35.0      1   \n",
       "4                           Allen, Mr. William Henry    male  35.0      0   \n",
       "\n",
       "   Parch            Ticket     Fare Cabin Embarked  \n",
       "0      0         A/5 21171   7.2500   NaN        S  \n",
       "1      0          PC 17599  71.2833   C85        C  \n",
       "2      0  STON/O2. 3101282   7.9250   NaN        S  \n",
       "3      0            113803  53.1000  C123        S  \n",
       "4      0            373450   8.0500   NaN        S  "
      ]
     },
     "execution_count": 3,
     "metadata": {},
     "output_type": "execute_result"
    }
   ],
   "source": [
    "df.head()"
   ]
  },
  {
   "cell_type": "markdown",
   "id": "otherwise-average",
   "metadata": {
    "papermill": {
     "duration": 0.037944,
     "end_time": "2022-12-25T17:36:08.246866",
     "exception": false,
     "start_time": "2022-12-25T17:36:08.208922",
     "status": "completed"
    },
    "tags": []
   },
   "source": [
    "## Null value checking\n",
    "through this line of code we are checking the null values in the data frame\n",
    "where False mean no null value and True means null values"
   ]
  },
  {
   "cell_type": "code",
   "execution_count": 4,
   "id": "automated-protein",
   "metadata": {
    "execution": {
     "iopub.execute_input": "2022-12-25T17:36:08.348598Z",
     "iopub.status.busy": "2022-12-25T17:36:08.347877Z",
     "iopub.status.idle": "2022-12-25T17:36:08.352867Z",
     "shell.execute_reply": "2022-12-25T17:36:08.352230Z",
     "shell.execute_reply.started": "2022-12-25T17:11:48.855978Z"
    },
    "papermill": {
     "duration": 0.06864,
     "end_time": "2022-12-25T17:36:08.353015",
     "exception": false,
     "start_time": "2022-12-25T17:36:08.284375",
     "status": "completed"
    },
    "tags": []
   },
   "outputs": [
    {
     "data": {
      "text/html": [
       "<div>\n",
       "<style scoped>\n",
       "    .dataframe tbody tr th:only-of-type {\n",
       "        vertical-align: middle;\n",
       "    }\n",
       "\n",
       "    .dataframe tbody tr th {\n",
       "        vertical-align: top;\n",
       "    }\n",
       "\n",
       "    .dataframe thead th {\n",
       "        text-align: right;\n",
       "    }\n",
       "</style>\n",
       "<table border=\"1\" class=\"dataframe\">\n",
       "  <thead>\n",
       "    <tr style=\"text-align: right;\">\n",
       "      <th></th>\n",
       "      <th>PassengerId</th>\n",
       "      <th>Survived</th>\n",
       "      <th>Pclass</th>\n",
       "      <th>Name</th>\n",
       "      <th>Sex</th>\n",
       "      <th>Age</th>\n",
       "      <th>SibSp</th>\n",
       "      <th>Parch</th>\n",
       "      <th>Ticket</th>\n",
       "      <th>Fare</th>\n",
       "      <th>Cabin</th>\n",
       "      <th>Embarked</th>\n",
       "    </tr>\n",
       "  </thead>\n",
       "  <tbody>\n",
       "    <tr>\n",
       "      <th>0</th>\n",
       "      <td>False</td>\n",
       "      <td>False</td>\n",
       "      <td>False</td>\n",
       "      <td>False</td>\n",
       "      <td>False</td>\n",
       "      <td>False</td>\n",
       "      <td>False</td>\n",
       "      <td>False</td>\n",
       "      <td>False</td>\n",
       "      <td>False</td>\n",
       "      <td>True</td>\n",
       "      <td>False</td>\n",
       "    </tr>\n",
       "    <tr>\n",
       "      <th>1</th>\n",
       "      <td>False</td>\n",
       "      <td>False</td>\n",
       "      <td>False</td>\n",
       "      <td>False</td>\n",
       "      <td>False</td>\n",
       "      <td>False</td>\n",
       "      <td>False</td>\n",
       "      <td>False</td>\n",
       "      <td>False</td>\n",
       "      <td>False</td>\n",
       "      <td>False</td>\n",
       "      <td>False</td>\n",
       "    </tr>\n",
       "    <tr>\n",
       "      <th>2</th>\n",
       "      <td>False</td>\n",
       "      <td>False</td>\n",
       "      <td>False</td>\n",
       "      <td>False</td>\n",
       "      <td>False</td>\n",
       "      <td>False</td>\n",
       "      <td>False</td>\n",
       "      <td>False</td>\n",
       "      <td>False</td>\n",
       "      <td>False</td>\n",
       "      <td>True</td>\n",
       "      <td>False</td>\n",
       "    </tr>\n",
       "    <tr>\n",
       "      <th>3</th>\n",
       "      <td>False</td>\n",
       "      <td>False</td>\n",
       "      <td>False</td>\n",
       "      <td>False</td>\n",
       "      <td>False</td>\n",
       "      <td>False</td>\n",
       "      <td>False</td>\n",
       "      <td>False</td>\n",
       "      <td>False</td>\n",
       "      <td>False</td>\n",
       "      <td>False</td>\n",
       "      <td>False</td>\n",
       "    </tr>\n",
       "    <tr>\n",
       "      <th>4</th>\n",
       "      <td>False</td>\n",
       "      <td>False</td>\n",
       "      <td>False</td>\n",
       "      <td>False</td>\n",
       "      <td>False</td>\n",
       "      <td>False</td>\n",
       "      <td>False</td>\n",
       "      <td>False</td>\n",
       "      <td>False</td>\n",
       "      <td>False</td>\n",
       "      <td>True</td>\n",
       "      <td>False</td>\n",
       "    </tr>\n",
       "    <tr>\n",
       "      <th>...</th>\n",
       "      <td>...</td>\n",
       "      <td>...</td>\n",
       "      <td>...</td>\n",
       "      <td>...</td>\n",
       "      <td>...</td>\n",
       "      <td>...</td>\n",
       "      <td>...</td>\n",
       "      <td>...</td>\n",
       "      <td>...</td>\n",
       "      <td>...</td>\n",
       "      <td>...</td>\n",
       "      <td>...</td>\n",
       "    </tr>\n",
       "    <tr>\n",
       "      <th>886</th>\n",
       "      <td>False</td>\n",
       "      <td>False</td>\n",
       "      <td>False</td>\n",
       "      <td>False</td>\n",
       "      <td>False</td>\n",
       "      <td>False</td>\n",
       "      <td>False</td>\n",
       "      <td>False</td>\n",
       "      <td>False</td>\n",
       "      <td>False</td>\n",
       "      <td>True</td>\n",
       "      <td>False</td>\n",
       "    </tr>\n",
       "    <tr>\n",
       "      <th>887</th>\n",
       "      <td>False</td>\n",
       "      <td>False</td>\n",
       "      <td>False</td>\n",
       "      <td>False</td>\n",
       "      <td>False</td>\n",
       "      <td>False</td>\n",
       "      <td>False</td>\n",
       "      <td>False</td>\n",
       "      <td>False</td>\n",
       "      <td>False</td>\n",
       "      <td>False</td>\n",
       "      <td>False</td>\n",
       "    </tr>\n",
       "    <tr>\n",
       "      <th>888</th>\n",
       "      <td>False</td>\n",
       "      <td>False</td>\n",
       "      <td>False</td>\n",
       "      <td>False</td>\n",
       "      <td>False</td>\n",
       "      <td>True</td>\n",
       "      <td>False</td>\n",
       "      <td>False</td>\n",
       "      <td>False</td>\n",
       "      <td>False</td>\n",
       "      <td>True</td>\n",
       "      <td>False</td>\n",
       "    </tr>\n",
       "    <tr>\n",
       "      <th>889</th>\n",
       "      <td>False</td>\n",
       "      <td>False</td>\n",
       "      <td>False</td>\n",
       "      <td>False</td>\n",
       "      <td>False</td>\n",
       "      <td>False</td>\n",
       "      <td>False</td>\n",
       "      <td>False</td>\n",
       "      <td>False</td>\n",
       "      <td>False</td>\n",
       "      <td>False</td>\n",
       "      <td>False</td>\n",
       "    </tr>\n",
       "    <tr>\n",
       "      <th>890</th>\n",
       "      <td>False</td>\n",
       "      <td>False</td>\n",
       "      <td>False</td>\n",
       "      <td>False</td>\n",
       "      <td>False</td>\n",
       "      <td>False</td>\n",
       "      <td>False</td>\n",
       "      <td>False</td>\n",
       "      <td>False</td>\n",
       "      <td>False</td>\n",
       "      <td>True</td>\n",
       "      <td>False</td>\n",
       "    </tr>\n",
       "  </tbody>\n",
       "</table>\n",
       "<p>891 rows × 12 columns</p>\n",
       "</div>"
      ],
      "text/plain": [
       "     PassengerId  Survived  Pclass   Name    Sex    Age  SibSp  Parch  Ticket  \\\n",
       "0          False     False   False  False  False  False  False  False   False   \n",
       "1          False     False   False  False  False  False  False  False   False   \n",
       "2          False     False   False  False  False  False  False  False   False   \n",
       "3          False     False   False  False  False  False  False  False   False   \n",
       "4          False     False   False  False  False  False  False  False   False   \n",
       "..           ...       ...     ...    ...    ...    ...    ...    ...     ...   \n",
       "886        False     False   False  False  False  False  False  False   False   \n",
       "887        False     False   False  False  False  False  False  False   False   \n",
       "888        False     False   False  False  False   True  False  False   False   \n",
       "889        False     False   False  False  False  False  False  False   False   \n",
       "890        False     False   False  False  False  False  False  False   False   \n",
       "\n",
       "      Fare  Cabin  Embarked  \n",
       "0    False   True     False  \n",
       "1    False  False     False  \n",
       "2    False   True     False  \n",
       "3    False  False     False  \n",
       "4    False   True     False  \n",
       "..     ...    ...       ...  \n",
       "886  False   True     False  \n",
       "887  False  False     False  \n",
       "888  False   True     False  \n",
       "889  False  False     False  \n",
       "890  False   True     False  \n",
       "\n",
       "[891 rows x 12 columns]"
      ]
     },
     "execution_count": 4,
     "metadata": {},
     "output_type": "execute_result"
    }
   ],
   "source": [
    "df.isnull()"
   ]
  },
  {
   "cell_type": "markdown",
   "id": "announced-canon",
   "metadata": {
    "papermill": {
     "duration": 0.051116,
     "end_time": "2022-12-25T17:36:08.442772",
     "exception": false,
     "start_time": "2022-12-25T17:36:08.391656",
     "status": "completed"
    },
    "tags": []
   },
   "source": [
    "sum() function will show you the statistics of null value of every features."
   ]
  },
  {
   "cell_type": "code",
   "execution_count": 5,
   "id": "numerical-company",
   "metadata": {
    "execution": {
     "iopub.execute_input": "2022-12-25T17:36:08.564280Z",
     "iopub.status.busy": "2022-12-25T17:36:08.563198Z",
     "iopub.status.idle": "2022-12-25T17:36:08.566895Z",
     "shell.execute_reply": "2022-12-25T17:36:08.567657Z",
     "shell.execute_reply.started": "2022-12-25T17:11:50.684190Z"
    },
    "papermill": {
     "duration": 0.070623,
     "end_time": "2022-12-25T17:36:08.567907",
     "exception": false,
     "start_time": "2022-12-25T17:36:08.497284",
     "status": "completed"
    },
    "tags": []
   },
   "outputs": [
    {
     "data": {
      "text/plain": [
       "PassengerId      0\n",
       "Survived         0\n",
       "Pclass           0\n",
       "Name             0\n",
       "Sex              0\n",
       "Age            177\n",
       "SibSp            0\n",
       "Parch            0\n",
       "Ticket           0\n",
       "Fare             0\n",
       "Cabin          687\n",
       "Embarked         2\n",
       "dtype: int64"
      ]
     },
     "execution_count": 5,
     "metadata": {},
     "output_type": "execute_result"
    }
   ],
   "source": [
    "df.isnull().sum()"
   ]
  },
  {
   "cell_type": "markdown",
   "id": "public-bahamas",
   "metadata": {
    "papermill": {
     "duration": 0.042392,
     "end_time": "2022-12-25T17:36:08.662248",
     "exception": false,
     "start_time": "2022-12-25T17:36:08.619856",
     "status": "completed"
    },
    "tags": []
   },
   "source": [
    "# Exploratory Data Analysis\n",
    "let's begin exploratory data analysis.\n",
    "We will start by checking our missing data!\n"
   ]
  },
  {
   "cell_type": "markdown",
   "id": "offensive-queensland",
   "metadata": {
    "papermill": {
     "duration": 0.042067,
     "end_time": "2022-12-25T17:36:08.743950",
     "exception": false,
     "start_time": "2022-12-25T17:36:08.701883",
     "status": "completed"
    },
    "tags": []
   },
   "source": [
    "## Missing Data\n",
    "we will use seaborn library to create some visual like heatmap"
   ]
  },
  {
   "cell_type": "code",
   "execution_count": 6,
   "id": "sonic-makeup",
   "metadata": {
    "execution": {
     "iopub.execute_input": "2022-12-25T17:36:08.840129Z",
     "iopub.status.busy": "2022-12-25T17:36:08.838772Z",
     "iopub.status.idle": "2022-12-25T17:36:09.983455Z",
     "shell.execute_reply": "2022-12-25T17:36:09.984074Z",
     "shell.execute_reply.started": "2022-12-25T17:13:28.213547Z"
    },
    "papermill": {
     "duration": 1.195689,
     "end_time": "2022-12-25T17:36:09.984269",
     "exception": false,
     "start_time": "2022-12-25T17:36:08.788580",
     "status": "completed"
    },
    "tags": []
   },
   "outputs": [
    {
     "data": {
      "image/png": "[encoded data removed]",
      "text/plain": [
       "<Figure size 576x432 with 1 Axes>"
      ]
     },
     "metadata": {
      "needs_background": "light"
     },
     "output_type": "display_data"
    }
   ],
   "source": [
    "import seaborn as sns\n",
    "import matplotlib.pyplot as plt\n",
    "plt.figure(figsize=(8,6))\n",
    "sns.set_style(\"darkgrid\")\n",
    "sns.heatmap(df.isnull(), yticklabels= False, cbar=False, cmap='viridis')\n",
    "plt.show();"
   ]
  },
  {
   "cell_type": "markdown",
   "id": "offensive-waste",
   "metadata": {
    "papermill": {
     "duration": 0.038754,
     "end_time": "2022-12-25T17:36:10.063194",
     "exception": false,
     "start_time": "2022-12-25T17:36:10.024440",
     "status": "completed"
    },
    "tags": []
   },
   "source": [
    "In the above map the yellow line shows the missing values so the Age and Cabin has missing values."
   ]
  },
  {
   "cell_type": "code",
   "execution_count": 7,
   "id": "advance-portuguese",
   "metadata": {
    "execution": {
     "iopub.execute_input": "2022-12-25T17:36:10.145247Z",
     "iopub.status.busy": "2022-12-25T17:36:10.144281Z",
     "iopub.status.idle": "2022-12-25T17:36:10.268404Z",
     "shell.execute_reply": "2022-12-25T17:36:10.268871Z",
     "shell.execute_reply.started": "2022-12-25T17:13:40.042952Z"
    },
    "papermill": {
     "duration": 0.166667,
     "end_time": "2022-12-25T17:36:10.269054",
     "exception": false,
     "start_time": "2022-12-25T17:36:10.102387",
     "status": "completed"
    },
    "tags": []
   },
   "outputs": [
    {
     "data": {
      "image/png": "[encoded data removed]",
      "text/plain": [
       "<Figure size 432x288 with 1 Axes>"
      ]
     },
     "metadata": {},
     "output_type": "display_data"
    }
   ],
   "source": [
    "#here we will see the statistic of Survived passangers\n",
    "sns.set_style('whitegrid')\n",
    "sns.countplot(x= 'Survived', data=df);"
   ]
  },
  {
   "cell_type": "code",
   "execution_count": 8,
   "id": "prescribed-junior",
   "metadata": {
    "execution": {
     "iopub.execute_input": "2022-12-25T17:36:10.352051Z",
     "iopub.status.busy": "2022-12-25T17:36:10.351077Z",
     "iopub.status.idle": "2022-12-25T17:36:10.498826Z",
     "shell.execute_reply": "2022-12-25T17:36:10.499422Z",
     "shell.execute_reply.started": "2022-12-25T17:13:49.079300Z"
    },
    "papermill": {
     "duration": 0.190905,
     "end_time": "2022-12-25T17:36:10.499601",
     "exception": false,
     "start_time": "2022-12-25T17:36:10.308696",
     "status": "completed"
    },
    "tags": []
   },
   "outputs": [
    {
     "data": {
      "image/png": "[encoded data removed]",
      "text/plain": [
       "<Figure size 432x288 with 1 Axes>"
      ]
     },
     "metadata": {},
     "output_type": "display_data"
    }
   ],
   "source": [
    "#Below code will output the Survived passanger according to gender (male and female).\n",
    "sns.set_style('whitegrid')\n",
    "sns.countplot(x= 'Survived',hue='Sex', data=df);"
   ]
  },
  {
   "cell_type": "code",
   "execution_count": 9,
   "id": "progressive-polyester",
   "metadata": {
    "execution": {
     "iopub.execute_input": "2022-12-25T17:36:10.584554Z",
     "iopub.status.busy": "2022-12-25T17:36:10.583557Z",
     "iopub.status.idle": "2022-12-25T17:36:10.601035Z",
     "shell.execute_reply": "2022-12-25T17:36:10.601578Z",
     "shell.execute_reply.started": "2022-12-25T17:15:01.454816Z"
    },
    "papermill": {
     "duration": 0.061955,
     "end_time": "2022-12-25T17:36:10.601776",
     "exception": false,
     "start_time": "2022-12-25T17:36:10.539821",
     "status": "completed"
    },
    "tags": []
   },
   "outputs": [
    {
     "name": "stdout",
     "output_type": "stream",
     "text": [
      "<class 'pandas.core.frame.DataFrame'>\n",
      "RangeIndex: 891 entries, 0 to 890\n",
      "Data columns (total 12 columns):\n",
      " #   Column       Non-Null Count  Dtype  \n",
      "---  ------       --------------  -----  \n",
      " 0   PassengerId  891 non-null    int64  \n",
      " 1   Survived     891 non-null    int64  \n",
      " 2   Pclass       891 non-null    int64  \n",
      " 3   Name         891 non-null    object \n",
      " 4   Sex          891 non-null    object \n",
      " 5   Age          714 non-null    float64\n",
      " 6   SibSp        891 non-null    int64  \n",
      " 7   Parch        891 non-null    int64  \n",
      " 8   Ticket       891 non-null    object \n",
      " 9   Fare         891 non-null    float64\n",
      " 10  Cabin        204 non-null    object \n",
      " 11  Embarked     889 non-null    object \n",
      "dtypes: float64(2), int64(5), object(5)\n",
      "memory usage: 83.7+ KB\n"
     ]
    }
   ],
   "source": [
    "df.info()"
   ]
  },
  {
   "cell_type": "code",
   "execution_count": 10,
   "id": "polish-village",
   "metadata": {
    "execution": {
     "iopub.execute_input": "2022-12-25T17:36:10.687592Z",
     "iopub.status.busy": "2022-12-25T17:36:10.686868Z",
     "iopub.status.idle": "2022-12-25T17:36:10.694267Z",
     "shell.execute_reply": "2022-12-25T17:36:10.694794Z",
     "shell.execute_reply.started": "2022-12-25T17:21:17.559378Z"
    },
    "papermill": {
     "duration": 0.0514,
     "end_time": "2022-12-25T17:36:10.694969",
     "exception": false,
     "start_time": "2022-12-25T17:36:10.643569",
     "status": "completed"
    },
    "tags": []
   },
   "outputs": [
    {
     "name": "stdout",
     "output_type": "stream",
     "text": [
      "Percentage of Women who survived 0.7420382165605095\n"
     ]
    }
   ],
   "source": [
    "women = df.loc[df.Sex == 'female'][\"Survived\"]\n",
    "rate_women = sum(women)/len(women)\n",
    "\n",
    "print(\"Percentage of Women who survived\", rate_women)"
   ]
  },
  {
   "cell_type": "code",
   "execution_count": 11,
   "id": "polyphonic-spread",
   "metadata": {
    "execution": {
     "iopub.execute_input": "2022-12-25T17:36:10.787022Z",
     "iopub.status.busy": "2022-12-25T17:36:10.786348Z",
     "iopub.status.idle": "2022-12-25T17:36:10.789256Z",
     "shell.execute_reply": "2022-12-25T17:36:10.789776Z",
     "shell.execute_reply.started": "2022-12-25T17:21:17.967533Z"
    },
    "papermill": {
     "duration": 0.052682,
     "end_time": "2022-12-25T17:36:10.789951",
     "exception": false,
     "start_time": "2022-12-25T17:36:10.737269",
     "status": "completed"
    },
    "tags": []
   },
   "outputs": [
    {
     "name": "stdout",
     "output_type": "stream",
     "text": [
      "Percentage of men who survived 0.7420382165605095\n"
     ]
    }
   ],
   "source": [
    "men = df.loc[df.Sex == 'female'][\"Survived\"]\n",
    "rate_men = sum(men)/len(men)\n",
    "\n",
    "print(\"Percentage of men who survived\", rate_men)"
   ]
  },
  {
   "cell_type": "code",
   "execution_count": 12,
   "id": "antique-coordinate",
   "metadata": {
    "execution": {
     "iopub.execute_input": "2022-12-25T17:36:10.882249Z",
     "iopub.status.busy": "2022-12-25T17:36:10.881551Z",
     "iopub.status.idle": "2022-12-25T17:36:11.069467Z",
     "shell.execute_reply": "2022-12-25T17:36:11.070026Z",
     "shell.execute_reply.started": "2022-12-25T17:13:49.756684Z"
    },
    "papermill": {
     "duration": 0.238164,
     "end_time": "2022-12-25T17:36:11.070226",
     "exception": false,
     "start_time": "2022-12-25T17:36:10.832062",
     "status": "completed"
    },
    "tags": []
   },
   "outputs": [
    {
     "data": {
      "image/png": "[encoded data removed]",
      "text/plain": [
       "<Figure size 432x288 with 1 Axes>"
      ]
     },
     "metadata": {},
     "output_type": "display_data"
    }
   ],
   "source": [
    "#This code will show the result according to the class.\n",
    "sns.set_style('whitegrid')\n",
    "sns.countplot(x= 'Survived',hue='Pclass', data=df);"
   ]
  },
  {
   "cell_type": "code",
   "execution_count": 13,
   "id": "endangered-basics",
   "metadata": {
    "execution": {
     "iopub.execute_input": "2022-12-25T17:36:11.159013Z",
     "iopub.status.busy": "2022-12-25T17:36:11.158347Z",
     "iopub.status.idle": "2022-12-25T17:36:11.425592Z",
     "shell.execute_reply": "2022-12-25T17:36:11.426243Z",
     "shell.execute_reply.started": "2022-12-25T17:13:56.120235Z"
    },
    "papermill": {
     "duration": 0.313612,
     "end_time": "2022-12-25T17:36:11.426426",
     "exception": false,
     "start_time": "2022-12-25T17:36:11.112814",
     "status": "completed"
    },
    "tags": []
   },
   "outputs": [
    {
     "name": "stderr",
     "output_type": "stream",
     "text": [
      "/opt/conda/lib/python3.7/site-packages/seaborn/distributions.py:2557: FutureWarning: `distplot` is a deprecated function and will be removed in a future version. Please adapt your code to use either `displot` (a figure-level function with similar flexibility) or `histplot` (an axes-level function for histograms).\n",
      "  warnings.warn(msg, FutureWarning)\n"
     ]
    },
    {
     "data": {
      "image/png": "[encoded data removed]",
      "text/plain": [
       "<Figure size 432x288 with 1 Axes>"
      ]
     },
     "metadata": {},
     "output_type": "display_data"
    }
   ],
   "source": [
    "sns.distplot(df['Age'].dropna(), kde=False, color='darkred', bins=30);"
   ]
  },
  {
   "cell_type": "code",
   "execution_count": 14,
   "id": "junior-force",
   "metadata": {
    "execution": {
     "iopub.execute_input": "2022-12-25T17:36:11.518941Z",
     "iopub.status.busy": "2022-12-25T17:36:11.518291Z",
     "iopub.status.idle": "2022-12-25T17:36:11.788791Z",
     "shell.execute_reply": "2022-12-25T17:36:11.788147Z",
     "shell.execute_reply.started": "2022-12-25T17:14:02.693345Z"
    },
    "papermill": {
     "duration": 0.318853,
     "end_time": "2022-12-25T17:36:11.788929",
     "exception": false,
     "start_time": "2022-12-25T17:36:11.470076",
     "status": "completed"
    },
    "tags": []
   },
   "outputs": [
    {
     "data": {
      "image/png": "[encoded data removed]",
      "text/plain": [
       "<Figure size 432x288 with 1 Axes>"
      ]
     },
     "metadata": {},
     "output_type": "display_data"
    }
   ],
   "source": [
    "df['Age'].hist(bins=30, color='darkred', alpha=0.5);"
   ]
  },
  {
   "cell_type": "code",
   "execution_count": 15,
   "id": "celtic-express",
   "metadata": {
    "execution": {
     "iopub.execute_input": "2022-12-25T17:36:11.886079Z",
     "iopub.status.busy": "2022-12-25T17:36:11.885326Z",
     "iopub.status.idle": "2022-12-25T17:36:12.165339Z",
     "shell.execute_reply": "2022-12-25T17:36:12.164806Z",
     "shell.execute_reply.started": "2022-12-25T17:14:10.614386Z"
    },
    "papermill": {
     "duration": 0.331659,
     "end_time": "2022-12-25T17:36:12.165492",
     "exception": false,
     "start_time": "2022-12-25T17:36:11.833833",
     "status": "completed"
    },
    "tags": []
   },
   "outputs": [
    {
     "data": {
      "image/png": "[encoded data removed]",
      "text/plain": [
       "<Figure size 432x288 with 1 Axes>"
      ]
     },
     "metadata": {},
     "output_type": "display_data"
    }
   ],
   "source": [
    "sns.countplot(x= 'SibSp', data=df);"
   ]
  },
  {
   "cell_type": "markdown",
   "id": "indoor-jaguar",
   "metadata": {
    "papermill": {
     "duration": 0.046355,
     "end_time": "2022-12-25T17:36:12.256756",
     "exception": false,
     "start_time": "2022-12-25T17:36:12.210401",
     "status": "completed"
    },
    "tags": []
   },
   "source": [
    "Here 0 means no any sibling or partners 1 mean one partner and so on.."
   ]
  },
  {
   "cell_type": "markdown",
   "id": "split-citizenship",
   "metadata": {
    "papermill": {
     "duration": 0.04483,
     "end_time": "2022-12-25T17:36:12.346972",
     "exception": false,
     "start_time": "2022-12-25T17:36:12.302142",
     "status": "completed"
    },
    "tags": []
   },
   "source": [
    "# Data Cleaning\n",
    "the first and most work here is filling the missing values so we will fill the missing value instead of dropping."
   ]
  },
  {
   "cell_type": "code",
   "execution_count": 16,
   "id": "innocent-catholic",
   "metadata": {
    "execution": {
     "iopub.execute_input": "2022-12-25T17:36:12.444146Z",
     "iopub.status.busy": "2022-12-25T17:36:12.443390Z",
     "iopub.status.idle": "2022-12-25T17:36:12.446799Z",
     "shell.execute_reply": "2022-12-25T17:36:12.446115Z",
     "shell.execute_reply.started": "2022-12-25T17:25:24.015416Z"
    },
    "papermill": {
     "duration": 0.054244,
     "end_time": "2022-12-25T17:36:12.446944",
     "exception": false,
     "start_time": "2022-12-25T17:36:12.392700",
     "status": "completed"
    },
    "tags": []
   },
   "outputs": [],
   "source": [
    "import matplotlib.pyplot as plt\n",
    "%matplotlib inline"
   ]
  },
  {
   "cell_type": "code",
   "execution_count": 17,
   "id": "related-omega",
   "metadata": {
    "execution": {
     "iopub.execute_input": "2022-12-25T17:36:12.544780Z",
     "iopub.status.busy": "2022-12-25T17:36:12.544057Z",
     "iopub.status.idle": "2022-12-25T17:36:12.746309Z",
     "shell.execute_reply": "2022-12-25T17:36:12.745578Z",
     "shell.execute_reply.started": "2022-12-25T17:25:24.466981Z"
    },
    "papermill": {
     "duration": 0.254433,
     "end_time": "2022-12-25T17:36:12.746472",
     "exception": false,
     "start_time": "2022-12-25T17:36:12.492039",
     "status": "completed"
    },
    "tags": []
   },
   "outputs": [
    {
     "data": {
      "image/png": "[encoded data removed]",
      "text/plain": [
       "<Figure size 864x504 with 1 Axes>"
      ]
     },
     "metadata": {
      "needs_background": "light"
     },
     "output_type": "display_data"
    }
   ],
   "source": [
    "#Here we can check the average age by passenger class\n",
    "plt.figure(figsize = (12, 7))\n",
    "sns.boxplot(x = 'Pclass', y='Age', data=df, palette='winter');"
   ]
  },
  {
   "cell_type": "markdown",
   "id": "organizational-bracelet",
   "metadata": {
    "papermill": {
     "duration": 0.045796,
     "end_time": "2022-12-25T17:36:12.839599",
     "exception": false,
     "start_time": "2022-12-25T17:36:12.793803",
     "status": "completed"
    },
    "tags": []
   },
   "source": [
    "### Dealing with missing values\n",
    "we will define a function to filling the missing values on behaf of their mean which we will get from boxplot above "
   ]
  },
  {
   "cell_type": "code",
   "execution_count": 18,
   "id": "alternate-office",
   "metadata": {
    "execution": {
     "iopub.execute_input": "2022-12-25T17:36:12.939589Z",
     "iopub.status.busy": "2022-12-25T17:36:12.938494Z",
     "iopub.status.idle": "2022-12-25T17:36:12.941447Z",
     "shell.execute_reply": "2022-12-25T17:36:12.941969Z",
     "shell.execute_reply.started": "2022-12-25T17:25:27.240021Z"
    },
    "papermill": {
     "duration": 0.056264,
     "end_time": "2022-12-25T17:36:12.942148",
     "exception": false,
     "start_time": "2022-12-25T17:36:12.885884",
     "status": "completed"
    },
    "tags": []
   },
   "outputs": [],
   "source": [
    "def impute_age(cols):\n",
    "    Age = cols[0]\n",
    "    Pclass = cols[1]\n",
    "    \n",
    "    if pd.isnull(Age):\n",
    "        if Pclass == 1:\n",
    "            return 37\n",
    "        elif Pclass == 2:\n",
    "            return 29\n",
    "        else:\n",
    "            return 24\n",
    "    else:\n",
    "        return Age"
   ]
  },
  {
   "cell_type": "code",
   "execution_count": 19,
   "id": "regulation-principal",
   "metadata": {
    "execution": {
     "iopub.execute_input": "2022-12-25T17:36:13.038814Z",
     "iopub.status.busy": "2022-12-25T17:36:13.038119Z",
     "iopub.status.idle": "2022-12-25T17:36:13.056375Z",
     "shell.execute_reply": "2022-12-25T17:36:13.055650Z",
     "shell.execute_reply.started": "2022-12-25T17:25:35.978893Z"
    },
    "papermill": {
     "duration": 0.068996,
     "end_time": "2022-12-25T17:36:13.056525",
     "exception": false,
     "start_time": "2022-12-25T17:36:12.987529",
     "status": "completed"
    },
    "tags": []
   },
   "outputs": [],
   "source": [
    "df['Age'] = df[['Age','Pclass']].apply(impute_age, axis=1)"
   ]
  },
  {
   "cell_type": "code",
   "execution_count": 20,
   "id": "quiet-examination",
   "metadata": {
    "execution": {
     "iopub.execute_input": "2022-12-25T17:36:13.176495Z",
     "iopub.status.busy": "2022-12-25T17:36:13.157704Z",
     "iopub.status.idle": "2022-12-25T17:36:13.431085Z",
     "shell.execute_reply": "2022-12-25T17:36:13.431815Z",
     "shell.execute_reply.started": "2022-12-25T17:32:33.127423Z"
    },
    "papermill": {
     "duration": 0.330051,
     "end_time": "2022-12-25T17:36:13.432008",
     "exception": false,
     "start_time": "2022-12-25T17:36:13.101957",
     "status": "completed"
    },
    "tags": []
   },
   "outputs": [
    {
     "data": {
      "image/png": "[encoded data removed]",
      "text/plain": [
       "<Figure size 576x432 with 1 Axes>"
      ]
     },
     "metadata": {
      "needs_background": "light"
     },
     "output_type": "display_data"
    }
   ],
   "source": [
    "plt.figure(figsize=(8,6))\n",
    "sns.heatmap(df.isnull(), yticklabels=False, cbar=False, cmap='viridis');"
   ]
  },
  {
   "cell_type": "code",
   "execution_count": 21,
   "id": "material-pioneer",
   "metadata": {
    "execution": {
     "iopub.execute_input": "2022-12-25T17:36:13.528571Z",
     "iopub.status.busy": "2022-12-25T17:36:13.527824Z",
     "iopub.status.idle": "2022-12-25T17:36:13.533767Z",
     "shell.execute_reply": "2022-12-25T17:36:13.534620Z",
     "shell.execute_reply.started": "2022-12-25T17:32:39.411530Z"
    },
    "papermill": {
     "duration": 0.056851,
     "end_time": "2022-12-25T17:36:13.534909",
     "exception": false,
     "start_time": "2022-12-25T17:36:13.478058",
     "status": "completed"
    },
    "tags": []
   },
   "outputs": [],
   "source": [
    "df.drop('Cabin', axis=1, inplace=True)"
   ]
  },
  {
   "cell_type": "code",
   "execution_count": 22,
   "id": "saved-copyright",
   "metadata": {
    "execution": {
     "iopub.execute_input": "2022-12-25T17:36:13.633861Z",
     "iopub.status.busy": "2022-12-25T17:36:13.633252Z",
     "iopub.status.idle": "2022-12-25T17:36:13.647925Z",
     "shell.execute_reply": "2022-12-25T17:36:13.648520Z",
     "shell.execute_reply.started": "2022-12-25T17:32:40.327480Z"
    },
    "papermill": {
     "duration": 0.066088,
     "end_time": "2022-12-25T17:36:13.648700",
     "exception": false,
     "start_time": "2022-12-25T17:36:13.582612",
     "status": "completed"
    },
    "tags": []
   },
   "outputs": [
    {
     "data": {
      "text/html": [
       "<div>\n",
       "<style scoped>\n",
       "    .dataframe tbody tr th:only-of-type {\n",
       "        vertical-align: middle;\n",
       "    }\n",
       "\n",
       "    .dataframe tbody tr th {\n",
       "        vertical-align: top;\n",
       "    }\n",
       "\n",
       "    .dataframe thead th {\n",
       "        text-align: right;\n",
       "    }\n",
       "</style>\n",
       "<table border=\"1\" class=\"dataframe\">\n",
       "  <thead>\n",
       "    <tr style=\"text-align: right;\">\n",
       "      <th></th>\n",
       "      <th>PassengerId</th>\n",
       "      <th>Survived</th>\n",
       "      <th>Pclass</th>\n",
       "      <th>Name</th>\n",
       "      <th>Sex</th>\n",
       "      <th>Age</th>\n",
       "      <th>SibSp</th>\n",
       "      <th>Parch</th>\n",
       "      <th>Ticket</th>\n",
       "      <th>Fare</th>\n",
       "      <th>Embarked</th>\n",
       "    </tr>\n",
       "  </thead>\n",
       "  <tbody>\n",
       "    <tr>\n",
       "      <th>0</th>\n",
       "      <td>1</td>\n",
       "      <td>0</td>\n",
       "      <td>3</td>\n",
       "      <td>Braund, Mr. Owen Harris</td>\n",
       "      <td>male</td>\n",
       "      <td>22.0</td>\n",
       "      <td>1</td>\n",
       "      <td>0</td>\n",
       "      <td>A/5 21171</td>\n",
       "      <td>7.2500</td>\n",
       "      <td>S</td>\n",
       "    </tr>\n",
       "    <tr>\n",
       "      <th>1</th>\n",
       "      <td>2</td>\n",
       "      <td>1</td>\n",
       "      <td>1</td>\n",
       "      <td>Cumings, Mrs. John Bradley (Florence Briggs Th...</td>\n",
       "      <td>female</td>\n",
       "      <td>38.0</td>\n",
       "      <td>1</td>\n",
       "      <td>0</td>\n",
       "      <td>PC 17599</td>\n",
       "      <td>71.2833</td>\n",
       "      <td>C</td>\n",
       "    </tr>\n",
       "    <tr>\n",
       "      <th>2</th>\n",
       "      <td>3</td>\n",
       "      <td>1</td>\n",
       "      <td>3</td>\n",
       "      <td>Heikkinen, Miss. Laina</td>\n",
       "      <td>female</td>\n",
       "      <td>26.0</td>\n",
       "      <td>0</td>\n",
       "      <td>0</td>\n",
       "      <td>STON/O2. 3101282</td>\n",
       "      <td>7.9250</td>\n",
       "      <td>S</td>\n",
       "    </tr>\n",
       "  </tbody>\n",
       "</table>\n",
       "</div>"
      ],
      "text/plain": [
       "   PassengerId  Survived  Pclass  \\\n",
       "0            1         0       3   \n",
       "1            2         1       1   \n",
       "2            3         1       3   \n",
       "\n",
       "                                                Name     Sex   Age  SibSp  \\\n",
       "0                            Braund, Mr. Owen Harris    male  22.0      1   \n",
       "1  Cumings, Mrs. John Bradley (Florence Briggs Th...  female  38.0      1   \n",
       "2                             Heikkinen, Miss. Laina  female  26.0      0   \n",
       "\n",
       "   Parch            Ticket     Fare Embarked  \n",
       "0      0         A/5 21171   7.2500        S  \n",
       "1      0          PC 17599  71.2833        C  \n",
       "2      0  STON/O2. 3101282   7.9250        S  "
      ]
     },
     "execution_count": 22,
     "metadata": {},
     "output_type": "execute_result"
    }
   ],
   "source": [
    "df.head(3)"
   ]
  },
  {
   "cell_type": "code",
   "execution_count": 23,
   "id": "aquatic-airplane",
   "metadata": {
    "execution": {
     "iopub.execute_input": "2022-12-25T17:36:13.744881Z",
     "iopub.status.busy": "2022-12-25T17:36:13.744141Z",
     "iopub.status.idle": "2022-12-25T17:36:13.750871Z",
     "shell.execute_reply": "2022-12-25T17:36:13.751402Z",
     "shell.execute_reply.started": "2022-12-25T17:32:53.791409Z"
    },
    "papermill": {
     "duration": 0.056575,
     "end_time": "2022-12-25T17:36:13.751579",
     "exception": false,
     "start_time": "2022-12-25T17:36:13.695004",
     "status": "completed"
    },
    "tags": []
   },
   "outputs": [],
   "source": [
    "df.dropna(inplace=True)"
   ]
  },
  {
   "cell_type": "markdown",
   "id": "fourth-seven",
   "metadata": {
    "papermill": {
     "duration": 0.046223,
     "end_time": "2022-12-25T17:36:13.845236",
     "exception": false,
     "start_time": "2022-12-25T17:36:13.799013",
     "status": "completed"
    },
    "tags": []
   },
   "source": [
    "## Converting Categorical Features\n",
    "we will need to convert categorical feature to dummy variable using pandas! otherwise our machine learning algorithm won't be able to direct take in those features as inputs."
   ]
  },
  {
   "cell_type": "code",
   "execution_count": 24,
   "id": "quick-pennsylvania",
   "metadata": {
    "execution": {
     "iopub.execute_input": "2022-12-25T17:36:13.944623Z",
     "iopub.status.busy": "2022-12-25T17:36:13.943934Z",
     "iopub.status.idle": "2022-12-25T17:36:13.958949Z",
     "shell.execute_reply": "2022-12-25T17:36:13.959505Z",
     "shell.execute_reply.started": "2022-12-25T17:32:56.015259Z"
    },
    "papermill": {
     "duration": 0.066274,
     "end_time": "2022-12-25T17:36:13.959691",
     "exception": false,
     "start_time": "2022-12-25T17:36:13.893417",
     "status": "completed"
    },
    "tags": []
   },
   "outputs": [
    {
     "name": "stdout",
     "output_type": "stream",
     "text": [
      "<class 'pandas.core.frame.DataFrame'>\n",
      "Int64Index: 889 entries, 0 to 890\n",
      "Data columns (total 11 columns):\n",
      " #   Column       Non-Null Count  Dtype  \n",
      "---  ------       --------------  -----  \n",
      " 0   PassengerId  889 non-null    int64  \n",
      " 1   Survived     889 non-null    int64  \n",
      " 2   Pclass       889 non-null    int64  \n",
      " 3   Name         889 non-null    object \n",
      " 4   Sex          889 non-null    object \n",
      " 5   Age          889 non-null    float64\n",
      " 6   SibSp        889 non-null    int64  \n",
      " 7   Parch        889 non-null    int64  \n",
      " 8   Ticket       889 non-null    object \n",
      " 9   Fare         889 non-null    float64\n",
      " 10  Embarked     889 non-null    object \n",
      "dtypes: float64(2), int64(5), object(4)\n",
      "memory usage: 83.3+ KB\n"
     ]
    }
   ],
   "source": [
    "df.info()"
   ]
  },
  {
   "cell_type": "code",
   "execution_count": 25,
   "id": "signal-heaven",
   "metadata": {
    "execution": {
     "iopub.execute_input": "2022-12-25T17:36:14.057913Z",
     "iopub.status.busy": "2022-12-25T17:36:14.056972Z",
     "iopub.status.idle": "2022-12-25T17:36:14.070534Z",
     "shell.execute_reply": "2022-12-25T17:36:14.071101Z",
     "shell.execute_reply.started": "2022-12-25T17:33:05.541442Z"
    },
    "papermill": {
     "duration": 0.063638,
     "end_time": "2022-12-25T17:36:14.071292",
     "exception": false,
     "start_time": "2022-12-25T17:36:14.007654",
     "status": "completed"
    },
    "tags": []
   },
   "outputs": [
    {
     "data": {
      "text/html": [
       "<div>\n",
       "<style scoped>\n",
       "    .dataframe tbody tr th:only-of-type {\n",
       "        vertical-align: middle;\n",
       "    }\n",
       "\n",
       "    .dataframe tbody tr th {\n",
       "        vertical-align: top;\n",
       "    }\n",
       "\n",
       "    .dataframe thead th {\n",
       "        text-align: right;\n",
       "    }\n",
       "</style>\n",
       "<table border=\"1\" class=\"dataframe\">\n",
       "  <thead>\n",
       "    <tr style=\"text-align: right;\">\n",
       "      <th></th>\n",
       "      <th>female</th>\n",
       "      <th>male</th>\n",
       "    </tr>\n",
       "  </thead>\n",
       "  <tbody>\n",
       "    <tr>\n",
       "      <th>0</th>\n",
       "      <td>0</td>\n",
       "      <td>1</td>\n",
       "    </tr>\n",
       "    <tr>\n",
       "      <th>1</th>\n",
       "      <td>1</td>\n",
       "      <td>0</td>\n",
       "    </tr>\n",
       "    <tr>\n",
       "      <th>2</th>\n",
       "      <td>1</td>\n",
       "      <td>0</td>\n",
       "    </tr>\n",
       "    <tr>\n",
       "      <th>3</th>\n",
       "      <td>1</td>\n",
       "      <td>0</td>\n",
       "    </tr>\n",
       "    <tr>\n",
       "      <th>4</th>\n",
       "      <td>0</td>\n",
       "      <td>1</td>\n",
       "    </tr>\n",
       "    <tr>\n",
       "      <th>...</th>\n",
       "      <td>...</td>\n",
       "      <td>...</td>\n",
       "    </tr>\n",
       "    <tr>\n",
       "      <th>886</th>\n",
       "      <td>0</td>\n",
       "      <td>1</td>\n",
       "    </tr>\n",
       "    <tr>\n",
       "      <th>887</th>\n",
       "      <td>1</td>\n",
       "      <td>0</td>\n",
       "    </tr>\n",
       "    <tr>\n",
       "      <th>888</th>\n",
       "      <td>1</td>\n",
       "      <td>0</td>\n",
       "    </tr>\n",
       "    <tr>\n",
       "      <th>889</th>\n",
       "      <td>0</td>\n",
       "      <td>1</td>\n",
       "    </tr>\n",
       "    <tr>\n",
       "      <th>890</th>\n",
       "      <td>0</td>\n",
       "      <td>1</td>\n",
       "    </tr>\n",
       "  </tbody>\n",
       "</table>\n",
       "<p>889 rows × 2 columns</p>\n",
       "</div>"
      ],
      "text/plain": [
       "     female  male\n",
       "0         0     1\n",
       "1         1     0\n",
       "2         1     0\n",
       "3         1     0\n",
       "4         0     1\n",
       "..      ...   ...\n",
       "886       0     1\n",
       "887       1     0\n",
       "888       1     0\n",
       "889       0     1\n",
       "890       0     1\n",
       "\n",
       "[889 rows x 2 columns]"
      ]
     },
     "execution_count": 25,
     "metadata": {},
     "output_type": "execute_result"
    }
   ],
   "source": [
    "sex = pd.get_dummies(df['Sex'])\n",
    "sex"
   ]
  },
  {
   "cell_type": "code",
   "execution_count": 26,
   "id": "bearing-edition",
   "metadata": {
    "execution": {
     "iopub.execute_input": "2022-12-25T17:36:14.170789Z",
     "iopub.status.busy": "2022-12-25T17:36:14.169803Z",
     "iopub.status.idle": "2022-12-25T17:36:14.186132Z",
     "shell.execute_reply": "2022-12-25T17:36:14.186716Z",
     "shell.execute_reply.started": "2022-12-25T17:32:58.959598Z"
    },
    "papermill": {
     "duration": 0.067157,
     "end_time": "2022-12-25T17:36:14.186893",
     "exception": false,
     "start_time": "2022-12-25T17:36:14.119736",
     "status": "completed"
    },
    "tags": []
   },
   "outputs": [
    {
     "data": {
      "text/html": [
       "<div>\n",
       "<style scoped>\n",
       "    .dataframe tbody tr th:only-of-type {\n",
       "        vertical-align: middle;\n",
       "    }\n",
       "\n",
       "    .dataframe tbody tr th {\n",
       "        vertical-align: top;\n",
       "    }\n",
       "\n",
       "    .dataframe thead th {\n",
       "        text-align: right;\n",
       "    }\n",
       "</style>\n",
       "<table border=\"1\" class=\"dataframe\">\n",
       "  <thead>\n",
       "    <tr style=\"text-align: right;\">\n",
       "      <th></th>\n",
       "      <th>PassengerId</th>\n",
       "      <th>Survived</th>\n",
       "      <th>Pclass</th>\n",
       "      <th>Name</th>\n",
       "      <th>Sex</th>\n",
       "      <th>Age</th>\n",
       "      <th>SibSp</th>\n",
       "      <th>Parch</th>\n",
       "      <th>Ticket</th>\n",
       "      <th>Fare</th>\n",
       "      <th>Embarked</th>\n",
       "    </tr>\n",
       "  </thead>\n",
       "  <tbody>\n",
       "    <tr>\n",
       "      <th>0</th>\n",
       "      <td>1</td>\n",
       "      <td>0</td>\n",
       "      <td>3</td>\n",
       "      <td>Braund, Mr. Owen Harris</td>\n",
       "      <td>male</td>\n",
       "      <td>22.0</td>\n",
       "      <td>1</td>\n",
       "      <td>0</td>\n",
       "      <td>A/5 21171</td>\n",
       "      <td>7.2500</td>\n",
       "      <td>S</td>\n",
       "    </tr>\n",
       "    <tr>\n",
       "      <th>1</th>\n",
       "      <td>2</td>\n",
       "      <td>1</td>\n",
       "      <td>1</td>\n",
       "      <td>Cumings, Mrs. John Bradley (Florence Briggs Th...</td>\n",
       "      <td>female</td>\n",
       "      <td>38.0</td>\n",
       "      <td>1</td>\n",
       "      <td>0</td>\n",
       "      <td>PC 17599</td>\n",
       "      <td>71.2833</td>\n",
       "      <td>C</td>\n",
       "    </tr>\n",
       "    <tr>\n",
       "      <th>2</th>\n",
       "      <td>3</td>\n",
       "      <td>1</td>\n",
       "      <td>3</td>\n",
       "      <td>Heikkinen, Miss. Laina</td>\n",
       "      <td>female</td>\n",
       "      <td>26.0</td>\n",
       "      <td>0</td>\n",
       "      <td>0</td>\n",
       "      <td>STON/O2. 3101282</td>\n",
       "      <td>7.9250</td>\n",
       "      <td>S</td>\n",
       "    </tr>\n",
       "    <tr>\n",
       "      <th>3</th>\n",
       "      <td>4</td>\n",
       "      <td>1</td>\n",
       "      <td>1</td>\n",
       "      <td>Futrelle, Mrs. Jacques Heath (Lily May Peel)</td>\n",
       "      <td>female</td>\n",
       "      <td>35.0</td>\n",
       "      <td>1</td>\n",
       "      <td>0</td>\n",
       "      <td>113803</td>\n",
       "      <td>53.1000</td>\n",
       "      <td>S</td>\n",
       "    </tr>\n",
       "    <tr>\n",
       "      <th>4</th>\n",
       "      <td>5</td>\n",
       "      <td>0</td>\n",
       "      <td>3</td>\n",
       "      <td>Allen, Mr. William Henry</td>\n",
       "      <td>male</td>\n",
       "      <td>35.0</td>\n",
       "      <td>0</td>\n",
       "      <td>0</td>\n",
       "      <td>373450</td>\n",
       "      <td>8.0500</td>\n",
       "      <td>S</td>\n",
       "    </tr>\n",
       "  </tbody>\n",
       "</table>\n",
       "</div>"
      ],
      "text/plain": [
       "   PassengerId  Survived  Pclass  \\\n",
       "0            1         0       3   \n",
       "1            2         1       1   \n",
       "2            3         1       3   \n",
       "3            4         1       1   \n",
       "4            5         0       3   \n",
       "\n",
       "                                                Name     Sex   Age  SibSp  \\\n",
       "0                            Braund, Mr. Owen Harris    male  22.0      1   \n",
       "1  Cumings, Mrs. John Bradley (Florence Briggs Th...  female  38.0      1   \n",
       "2                             Heikkinen, Miss. Laina  female  26.0      0   \n",
       "3       Futrelle, Mrs. Jacques Heath (Lily May Peel)  female  35.0      1   \n",
       "4                           Allen, Mr. William Henry    male  35.0      0   \n",
       "\n",
       "   Parch            Ticket     Fare Embarked  \n",
       "0      0         A/5 21171   7.2500        S  \n",
       "1      0          PC 17599  71.2833        C  \n",
       "2      0  STON/O2. 3101282   7.9250        S  \n",
       "3      0            113803  53.1000        S  \n",
       "4      0            373450   8.0500        S  "
      ]
     },
     "execution_count": 26,
     "metadata": {},
     "output_type": "execute_result"
    }
   ],
   "source": [
    "df.head()"
   ]
  },
  {
   "cell_type": "code",
   "execution_count": 27,
   "id": "wired-animation",
   "metadata": {
    "execution": {
     "iopub.execute_input": "2022-12-25T17:36:14.289892Z",
     "iopub.status.busy": "2022-12-25T17:36:14.288847Z",
     "iopub.status.idle": "2022-12-25T17:36:14.295933Z",
     "shell.execute_reply": "2022-12-25T17:36:14.296491Z",
     "shell.execute_reply.started": "2022-12-25T17:33:12.176376Z"
    },
    "papermill": {
     "duration": 0.060117,
     "end_time": "2022-12-25T17:36:14.296688",
     "exception": false,
     "start_time": "2022-12-25T17:36:14.236571",
     "status": "completed"
    },
    "tags": []
   },
   "outputs": [],
   "source": [
    "sex = pd.get_dummies(df['Sex'], drop_first=True)\n",
    "embark = pd.get_dummies(df['Embarked'],drop_first=True)"
   ]
  },
  {
   "cell_type": "code",
   "execution_count": 28,
   "id": "unable-great",
   "metadata": {
    "execution": {
     "iopub.execute_input": "2022-12-25T17:36:14.399297Z",
     "iopub.status.busy": "2022-12-25T17:36:14.398315Z",
     "iopub.status.idle": "2022-12-25T17:36:14.404135Z",
     "shell.execute_reply": "2022-12-25T17:36:14.404772Z",
     "shell.execute_reply.started": "2022-12-25T17:33:13.978949Z"
    },
    "papermill": {
     "duration": 0.057612,
     "end_time": "2022-12-25T17:36:14.404967",
     "exception": false,
     "start_time": "2022-12-25T17:36:14.347355",
     "status": "completed"
    },
    "tags": []
   },
   "outputs": [],
   "source": [
    "df.drop(['Sex','Embarked','Name','Ticket'], axis=1, inplace=True)"
   ]
  },
  {
   "cell_type": "code",
   "execution_count": 29,
   "id": "naked-statistics",
   "metadata": {
    "execution": {
     "iopub.execute_input": "2022-12-25T17:36:14.504421Z",
     "iopub.status.busy": "2022-12-25T17:36:14.503695Z",
     "iopub.status.idle": "2022-12-25T17:36:14.509243Z",
     "shell.execute_reply": "2022-12-25T17:36:14.509786Z",
     "shell.execute_reply.started": "2022-12-25T17:33:22.242958Z"
    },
    "papermill": {
     "duration": 0.056762,
     "end_time": "2022-12-25T17:36:14.509965",
     "exception": false,
     "start_time": "2022-12-25T17:36:14.453203",
     "status": "completed"
    },
    "tags": []
   },
   "outputs": [],
   "source": [
    "df = pd.concat([df, sex,embark], axis=1)"
   ]
  },
  {
   "cell_type": "code",
   "execution_count": 30,
   "id": "ignored-williams",
   "metadata": {
    "execution": {
     "iopub.execute_input": "2022-12-25T17:36:14.610978Z",
     "iopub.status.busy": "2022-12-25T17:36:14.610346Z",
     "iopub.status.idle": "2022-12-25T17:36:14.632814Z",
     "shell.execute_reply": "2022-12-25T17:36:14.632176Z",
     "shell.execute_reply.started": "2022-12-25T17:33:23.267763Z"
    },
    "papermill": {
     "duration": 0.074487,
     "end_time": "2022-12-25T17:36:14.632957",
     "exception": false,
     "start_time": "2022-12-25T17:36:14.558470",
     "status": "completed"
    },
    "tags": []
   },
   "outputs": [
    {
     "data": {
      "text/html": [
       "<div>\n",
       "<style scoped>\n",
       "    .dataframe tbody tr th:only-of-type {\n",
       "        vertical-align: middle;\n",
       "    }\n",
       "\n",
       "    .dataframe tbody tr th {\n",
       "        vertical-align: top;\n",
       "    }\n",
       "\n",
       "    .dataframe thead th {\n",
       "        text-align: right;\n",
       "    }\n",
       "</style>\n",
       "<table border=\"1\" class=\"dataframe\">\n",
       "  <thead>\n",
       "    <tr style=\"text-align: right;\">\n",
       "      <th></th>\n",
       "      <th>PassengerId</th>\n",
       "      <th>Survived</th>\n",
       "      <th>Pclass</th>\n",
       "      <th>Age</th>\n",
       "      <th>SibSp</th>\n",
       "      <th>Parch</th>\n",
       "      <th>Fare</th>\n",
       "      <th>male</th>\n",
       "      <th>Q</th>\n",
       "      <th>S</th>\n",
       "    </tr>\n",
       "  </thead>\n",
       "  <tbody>\n",
       "    <tr>\n",
       "      <th>0</th>\n",
       "      <td>1</td>\n",
       "      <td>0</td>\n",
       "      <td>3</td>\n",
       "      <td>22.0</td>\n",
       "      <td>1</td>\n",
       "      <td>0</td>\n",
       "      <td>7.2500</td>\n",
       "      <td>1</td>\n",
       "      <td>0</td>\n",
       "      <td>1</td>\n",
       "    </tr>\n",
       "    <tr>\n",
       "      <th>1</th>\n",
       "      <td>2</td>\n",
       "      <td>1</td>\n",
       "      <td>1</td>\n",
       "      <td>38.0</td>\n",
       "      <td>1</td>\n",
       "      <td>0</td>\n",
       "      <td>71.2833</td>\n",
       "      <td>0</td>\n",
       "      <td>0</td>\n",
       "      <td>0</td>\n",
       "    </tr>\n",
       "    <tr>\n",
       "      <th>2</th>\n",
       "      <td>3</td>\n",
       "      <td>1</td>\n",
       "      <td>3</td>\n",
       "      <td>26.0</td>\n",
       "      <td>0</td>\n",
       "      <td>0</td>\n",
       "      <td>7.9250</td>\n",
       "      <td>0</td>\n",
       "      <td>0</td>\n",
       "      <td>1</td>\n",
       "    </tr>\n",
       "    <tr>\n",
       "      <th>3</th>\n",
       "      <td>4</td>\n",
       "      <td>1</td>\n",
       "      <td>1</td>\n",
       "      <td>35.0</td>\n",
       "      <td>1</td>\n",
       "      <td>0</td>\n",
       "      <td>53.1000</td>\n",
       "      <td>0</td>\n",
       "      <td>0</td>\n",
       "      <td>1</td>\n",
       "    </tr>\n",
       "    <tr>\n",
       "      <th>4</th>\n",
       "      <td>5</td>\n",
       "      <td>0</td>\n",
       "      <td>3</td>\n",
       "      <td>35.0</td>\n",
       "      <td>0</td>\n",
       "      <td>0</td>\n",
       "      <td>8.0500</td>\n",
       "      <td>1</td>\n",
       "      <td>0</td>\n",
       "      <td>1</td>\n",
       "    </tr>\n",
       "    <tr>\n",
       "      <th>...</th>\n",
       "      <td>...</td>\n",
       "      <td>...</td>\n",
       "      <td>...</td>\n",
       "      <td>...</td>\n",
       "      <td>...</td>\n",
       "      <td>...</td>\n",
       "      <td>...</td>\n",
       "      <td>...</td>\n",
       "      <td>...</td>\n",
       "      <td>...</td>\n",
       "    </tr>\n",
       "    <tr>\n",
       "      <th>886</th>\n",
       "      <td>887</td>\n",
       "      <td>0</td>\n",
       "      <td>2</td>\n",
       "      <td>27.0</td>\n",
       "      <td>0</td>\n",
       "      <td>0</td>\n",
       "      <td>13.0000</td>\n",
       "      <td>1</td>\n",
       "      <td>0</td>\n",
       "      <td>1</td>\n",
       "    </tr>\n",
       "    <tr>\n",
       "      <th>887</th>\n",
       "      <td>888</td>\n",
       "      <td>1</td>\n",
       "      <td>1</td>\n",
       "      <td>19.0</td>\n",
       "      <td>0</td>\n",
       "      <td>0</td>\n",
       "      <td>30.0000</td>\n",
       "      <td>0</td>\n",
       "      <td>0</td>\n",
       "      <td>1</td>\n",
       "    </tr>\n",
       "    <tr>\n",
       "      <th>888</th>\n",
       "      <td>889</td>\n",
       "      <td>0</td>\n",
       "      <td>3</td>\n",
       "      <td>24.0</td>\n",
       "      <td>1</td>\n",
       "      <td>2</td>\n",
       "      <td>23.4500</td>\n",
       "      <td>0</td>\n",
       "      <td>0</td>\n",
       "      <td>1</td>\n",
       "    </tr>\n",
       "    <tr>\n",
       "      <th>889</th>\n",
       "      <td>890</td>\n",
       "      <td>1</td>\n",
       "      <td>1</td>\n",
       "      <td>26.0</td>\n",
       "      <td>0</td>\n",
       "      <td>0</td>\n",
       "      <td>30.0000</td>\n",
       "      <td>1</td>\n",
       "      <td>0</td>\n",
       "      <td>0</td>\n",
       "    </tr>\n",
       "    <tr>\n",
       "      <th>890</th>\n",
       "      <td>891</td>\n",
       "      <td>0</td>\n",
       "      <td>3</td>\n",
       "      <td>32.0</td>\n",
       "      <td>0</td>\n",
       "      <td>0</td>\n",
       "      <td>7.7500</td>\n",
       "      <td>1</td>\n",
       "      <td>1</td>\n",
       "      <td>0</td>\n",
       "    </tr>\n",
       "  </tbody>\n",
       "</table>\n",
       "<p>889 rows × 10 columns</p>\n",
       "</div>"
      ],
      "text/plain": [
       "     PassengerId  Survived  Pclass   Age  SibSp  Parch     Fare  male  Q  S\n",
       "0              1         0       3  22.0      1      0   7.2500     1  0  1\n",
       "1              2         1       1  38.0      1      0  71.2833     0  0  0\n",
       "2              3         1       3  26.0      0      0   7.9250     0  0  1\n",
       "3              4         1       1  35.0      1      0  53.1000     0  0  1\n",
       "4              5         0       3  35.0      0      0   8.0500     1  0  1\n",
       "..           ...       ...     ...   ...    ...    ...      ...   ... .. ..\n",
       "886          887         0       2  27.0      0      0  13.0000     1  0  1\n",
       "887          888         1       1  19.0      0      0  30.0000     0  0  1\n",
       "888          889         0       3  24.0      1      2  23.4500     0  0  1\n",
       "889          890         1       1  26.0      0      0  30.0000     1  0  0\n",
       "890          891         0       3  32.0      0      0   7.7500     1  1  0\n",
       "\n",
       "[889 rows x 10 columns]"
      ]
     },
     "execution_count": 30,
     "metadata": {},
     "output_type": "execute_result"
    }
   ],
   "source": [
    "df"
   ]
  },
  {
   "cell_type": "code",
   "execution_count": 31,
   "id": "owned-flour",
   "metadata": {
    "execution": {
     "iopub.execute_input": "2022-12-25T17:36:14.735822Z",
     "iopub.status.busy": "2022-12-25T17:36:14.735123Z",
     "iopub.status.idle": "2022-12-25T17:36:14.738829Z",
     "shell.execute_reply": "2022-12-25T17:36:14.739373Z",
     "shell.execute_reply.started": "2022-12-25T17:33:32.305410Z"
    },
    "papermill": {
     "duration": 0.057739,
     "end_time": "2022-12-25T17:36:14.739555",
     "exception": false,
     "start_time": "2022-12-25T17:36:14.681816",
     "status": "completed"
    },
    "tags": []
   },
   "outputs": [
    {
     "data": {
      "text/plain": [
       "Index(['PassengerId', 'Survived', 'Pclass', 'Age', 'SibSp', 'Parch', 'Fare',\n",
       "       'male', 'Q', 'S'],\n",
       "      dtype='object')"
      ]
     },
     "execution_count": 31,
     "metadata": {},
     "output_type": "execute_result"
    }
   ],
   "source": [
    "df.columns"
   ]
  },
  {
   "cell_type": "code",
   "execution_count": 32,
   "id": "supreme-duration",
   "metadata": {
    "execution": {
     "iopub.execute_input": "2022-12-25T17:36:14.841624Z",
     "iopub.status.busy": "2022-12-25T17:36:14.840938Z",
     "iopub.status.idle": "2022-12-25T17:36:14.847353Z",
     "shell.execute_reply": "2022-12-25T17:36:14.847878Z",
     "shell.execute_reply.started": "2022-12-25T17:33:32.769907Z"
    },
    "papermill": {
     "duration": 0.058965,
     "end_time": "2022-12-25T17:36:14.848068",
     "exception": false,
     "start_time": "2022-12-25T17:36:14.789103",
     "status": "completed"
    },
    "tags": []
   },
   "outputs": [
    {
     "data": {
      "text/plain": [
       "PassengerId      int64\n",
       "Survived         int64\n",
       "Pclass           int64\n",
       "Age            float64\n",
       "SibSp            int64\n",
       "Parch            int64\n",
       "Fare           float64\n",
       "male             uint8\n",
       "Q                uint8\n",
       "S                uint8\n",
       "dtype: object"
      ]
     },
     "execution_count": 32,
     "metadata": {},
     "output_type": "execute_result"
    }
   ],
   "source": [
    "df.dtypes"
   ]
  },
  {
   "cell_type": "markdown",
   "id": "rough-cosmetic",
   "metadata": {
    "papermill": {
     "duration": 0.049592,
     "end_time": "2022-12-25T17:36:14.947154",
     "exception": false,
     "start_time": "2022-12-25T17:36:14.897562",
     "status": "completed"
    },
    "tags": []
   },
   "source": [
    "# Building a Logistic Regression Model\n",
    "let's start by splitting our data into train set and tes set.\n",
    "## Train Test Split"
   ]
  },
  {
   "cell_type": "code",
   "execution_count": 33,
   "id": "disturbed-freeze",
   "metadata": {
    "execution": {
     "iopub.execute_input": "2022-12-25T17:36:15.048212Z",
     "iopub.status.busy": "2022-12-25T17:36:15.047550Z",
     "iopub.status.idle": "2022-12-25T17:36:15.262716Z",
     "shell.execute_reply": "2022-12-25T17:36:15.262063Z",
     "shell.execute_reply.started": "2022-12-25T17:33:57.681182Z"
    },
    "papermill": {
     "duration": 0.266818,
     "end_time": "2022-12-25T17:36:15.262874",
     "exception": false,
     "start_time": "2022-12-25T17:36:14.996056",
     "status": "completed"
    },
    "tags": []
   },
   "outputs": [],
   "source": [
    "from sklearn.model_selection import train_test_split"
   ]
  },
  {
   "cell_type": "code",
   "execution_count": 34,
   "id": "impressed-probability",
   "metadata": {
    "execution": {
     "iopub.execute_input": "2022-12-25T17:36:15.364495Z",
     "iopub.status.busy": "2022-12-25T17:36:15.363826Z",
     "iopub.status.idle": "2022-12-25T17:36:15.368151Z",
     "shell.execute_reply": "2022-12-25T17:36:15.368665Z",
     "shell.execute_reply.started": "2022-12-25T17:33:59.426685Z"
    },
    "papermill": {
     "duration": 0.056873,
     "end_time": "2022-12-25T17:36:15.368845",
     "exception": false,
     "start_time": "2022-12-25T17:36:15.311972",
     "status": "completed"
    },
    "tags": []
   },
   "outputs": [
    {
     "data": {
      "text/plain": [
       "<function sklearn.model_selection._split.train_test_split(*arrays, test_size=None, train_size=None, random_state=None, shuffle=True, stratify=None)>"
      ]
     },
     "execution_count": 34,
     "metadata": {},
     "output_type": "execute_result"
    }
   ],
   "source": [
    "train_test_split"
   ]
  },
  {
   "cell_type": "code",
   "execution_count": 35,
   "id": "organizational-death",
   "metadata": {
    "execution": {
     "iopub.execute_input": "2022-12-25T17:36:15.471436Z",
     "iopub.status.busy": "2022-12-25T17:36:15.470758Z",
     "iopub.status.idle": "2022-12-25T17:36:15.478326Z",
     "shell.execute_reply": "2022-12-25T17:36:15.478896Z",
     "shell.execute_reply.started": "2022-12-25T17:34:01.650772Z"
    },
    "papermill": {
     "duration": 0.060486,
     "end_time": "2022-12-25T17:36:15.479085",
     "exception": false,
     "start_time": "2022-12-25T17:36:15.418599",
     "status": "completed"
    },
    "tags": []
   },
   "outputs": [],
   "source": [
    "X_train, X_test, y_train, y_test = train_test_split(df.drop('Survived', axis=1), df['Survived'], test_size=0.30, random_state=101)"
   ]
  },
  {
   "cell_type": "markdown",
   "id": "antique-lodging",
   "metadata": {
    "papermill": {
     "duration": 0.048928,
     "end_time": "2022-12-25T17:36:15.578931",
     "exception": false,
     "start_time": "2022-12-25T17:36:15.530003",
     "status": "completed"
    },
    "tags": []
   },
   "source": [
    "## Training and Predicting "
   ]
  },
  {
   "cell_type": "code",
   "execution_count": 36,
   "id": "pointed-moldova",
   "metadata": {
    "execution": {
     "iopub.execute_input": "2022-12-25T17:36:15.684512Z",
     "iopub.status.busy": "2022-12-25T17:36:15.683776Z",
     "iopub.status.idle": "2022-12-25T17:36:15.786377Z",
     "shell.execute_reply": "2022-12-25T17:36:15.786875Z",
     "shell.execute_reply.started": "2022-12-25T17:34:03.676839Z"
    },
    "papermill": {
     "duration": 0.156933,
     "end_time": "2022-12-25T17:36:15.787082",
     "exception": false,
     "start_time": "2022-12-25T17:36:15.630149",
     "status": "completed"
    },
    "tags": []
   },
   "outputs": [],
   "source": [
    "from sklearn.linear_model import LogisticRegression"
   ]
  },
  {
   "cell_type": "code",
   "execution_count": 37,
   "id": "descending-alcohol",
   "metadata": {
    "execution": {
     "iopub.execute_input": "2022-12-25T17:36:15.889453Z",
     "iopub.status.busy": "2022-12-25T17:36:15.888760Z",
     "iopub.status.idle": "2022-12-25T17:36:15.936279Z",
     "shell.execute_reply": "2022-12-25T17:36:15.936758Z",
     "shell.execute_reply.started": "2022-12-25T17:34:04.665453Z"
    },
    "papermill": {
     "duration": 0.100322,
     "end_time": "2022-12-25T17:36:15.936957",
     "exception": false,
     "start_time": "2022-12-25T17:36:15.836635",
     "status": "completed"
    },
    "tags": []
   },
   "outputs": [
    {
     "name": "stderr",
     "output_type": "stream",
     "text": [
      "/opt/conda/lib/python3.7/site-packages/sklearn/linear_model/_logistic.py:765: ConvergenceWarning: lbfgs failed to converge (status=1):\n",
      "STOP: TOTAL NO. of ITERATIONS REACHED LIMIT.\n",
      "\n",
      "Increase the number of iterations (max_iter) or scale the data as shown in:\n",
      "    https://scikit-learn.org/stable/modules/preprocessing.html\n",
      "Please also refer to the documentation for alternative solver options:\n",
      "    https://scikit-learn.org/stable/modules/linear_model.html#logistic-regression\n",
      "  extra_warning_msg=_LOGISTIC_SOLVER_CONVERGENCE_MSG)\n"
     ]
    }
   ],
   "source": [
    "logmodel = LogisticRegression()\n",
    "logmodel.fit(X_train, y_train);"
   ]
  },
  {
   "cell_type": "code",
   "execution_count": 38,
   "id": "little-flight",
   "metadata": {
    "execution": {
     "iopub.execute_input": "2022-12-25T17:36:16.040779Z",
     "iopub.status.busy": "2022-12-25T17:36:16.039785Z",
     "iopub.status.idle": "2022-12-25T17:36:16.049765Z",
     "shell.execute_reply": "2022-12-25T17:36:16.049059Z",
     "shell.execute_reply.started": "2022-12-25T17:34:17.193822Z"
    },
    "papermill": {
     "duration": 0.062889,
     "end_time": "2022-12-25T17:36:16.049917",
     "exception": false,
     "start_time": "2022-12-25T17:36:15.987028",
     "status": "completed"
    },
    "tags": []
   },
   "outputs": [
    {
     "data": {
      "text/plain": [
       "array([0, 0, 1, 1, 0, 0, 0, 0, 0, 0, 1, 1, 0, 0, 0, 0, 1, 1, 1, 0, 0, 0,\n",
       "       0, 0, 0, 0, 0, 0, 0, 0, 0, 0, 0, 0, 0, 0, 1, 0, 0, 0, 1, 0, 0, 1,\n",
       "       1, 0, 1, 1, 0, 0, 0, 1, 0, 0, 0, 0, 0, 0, 0, 1, 0, 1, 1, 0, 0, 0,\n",
       "       0, 0, 0, 0, 0, 0, 1, 1, 0, 1, 0, 0, 0, 0, 0, 0, 0, 0, 0, 1, 0, 1,\n",
       "       0, 1, 1, 1, 0, 0, 0, 1, 1, 0, 0, 1, 0, 1, 0, 0, 1, 0, 1, 0, 0, 0,\n",
       "       0, 0, 1, 1, 0, 1, 0, 0, 1, 1, 1, 0, 0, 0, 0, 0, 1, 0, 1, 1, 0, 0,\n",
       "       1, 0, 0, 0, 0, 0, 0, 0, 0, 0, 0, 0, 0, 1, 0, 0, 0, 1, 0, 1, 1, 1,\n",
       "       0, 0, 0, 0, 1, 0, 0, 0, 0, 0, 0, 0, 0, 0, 0, 0, 1, 0, 1, 0, 0, 0,\n",
       "       0, 0, 1, 0, 1, 0, 0, 1, 0, 1, 1, 0, 0, 0, 0, 1, 1, 0, 0, 0, 1, 0,\n",
       "       0, 1, 0, 0, 1, 0, 1, 0, 0, 0, 0, 0, 0, 0, 1, 0, 0, 1, 1, 0, 0, 0,\n",
       "       1, 0, 0, 0, 1, 0, 0, 1, 0, 0, 1, 0, 0, 0, 1, 1, 1, 0, 1, 0, 0, 0,\n",
       "       0, 0, 1, 0, 0, 0, 1, 1, 0, 1, 0, 0, 0, 0, 0, 0, 0, 1, 1, 0, 0, 0,\n",
       "       0, 1, 1])"
      ]
     },
     "execution_count": 38,
     "metadata": {},
     "output_type": "execute_result"
    }
   ],
   "source": [
    "predictions = logmodel.predict(X_test)\n",
    "predictions"
   ]
  },
  {
   "cell_type": "markdown",
   "id": "exceptional-warning",
   "metadata": {
    "papermill": {
     "duration": 0.049496,
     "end_time": "2022-12-25T17:36:16.150155",
     "exception": false,
     "start_time": "2022-12-25T17:36:16.100659",
     "status": "completed"
    },
    "tags": []
   },
   "source": [
    "# Evaluation\n",
    "we can check precision, recall, f1-score using calssification report!"
   ]
  },
  {
   "cell_type": "code",
   "execution_count": 39,
   "id": "subtle-truck",
   "metadata": {
    "execution": {
     "iopub.execute_input": "2022-12-25T17:36:16.255985Z",
     "iopub.status.busy": "2022-12-25T17:36:16.254952Z",
     "iopub.status.idle": "2022-12-25T17:36:16.258128Z",
     "shell.execute_reply": "2022-12-25T17:36:16.257625Z",
     "shell.execute_reply.started": "2022-12-25T17:34:24.834180Z"
    },
    "papermill": {
     "duration": 0.057957,
     "end_time": "2022-12-25T17:36:16.258311",
     "exception": false,
     "start_time": "2022-12-25T17:36:16.200354",
     "status": "completed"
    },
    "tags": []
   },
   "outputs": [],
   "source": [
    "from sklearn.metrics import classification_report"
   ]
  },
  {
   "cell_type": "code",
   "execution_count": 40,
   "id": "sufficient-sleeve",
   "metadata": {
    "execution": {
     "iopub.execute_input": "2022-12-25T17:36:16.365102Z",
     "iopub.status.busy": "2022-12-25T17:36:16.364073Z",
     "iopub.status.idle": "2022-12-25T17:36:16.373321Z",
     "shell.execute_reply": "2022-12-25T17:36:16.372602Z",
     "shell.execute_reply.started": "2022-12-25T17:34:25.288722Z"
    },
    "papermill": {
     "duration": 0.064019,
     "end_time": "2022-12-25T17:36:16.373485",
     "exception": false,
     "start_time": "2022-12-25T17:36:16.309466",
     "status": "completed"
    },
    "tags": []
   },
   "outputs": [
    {
     "name": "stdout",
     "output_type": "stream",
     "text": [
      "              precision    recall  f1-score   support\n",
      "\n",
      "           0       0.79      0.91      0.85       163\n",
      "           1       0.82      0.62      0.71       104\n",
      "\n",
      "    accuracy                           0.80       267\n",
      "   macro avg       0.81      0.77      0.78       267\n",
      "weighted avg       0.80      0.80      0.80       267\n",
      "\n"
     ]
    }
   ],
   "source": [
    "print(classification_report(y_test, predictions))"
   ]
  },
  {
   "cell_type": "code",
   "execution_count": 41,
   "id": "several-finish",
   "metadata": {
    "execution": {
     "iopub.execute_input": "2022-12-25T17:36:16.486110Z",
     "iopub.status.busy": "2022-12-25T17:36:16.485033Z",
     "iopub.status.idle": "2022-12-25T17:36:16.488312Z",
     "shell.execute_reply": "2022-12-25T17:36:16.487701Z",
     "shell.execute_reply.started": "2022-12-25T17:34:26.479137Z"
    },
    "papermill": {
     "duration": 0.060513,
     "end_time": "2022-12-25T17:36:16.488470",
     "exception": false,
     "start_time": "2022-12-25T17:36:16.427957",
     "status": "completed"
    },
    "tags": []
   },
   "outputs": [],
   "source": [
    "from sklearn.metrics import confusion_matrix"
   ]
  },
  {
   "cell_type": "code",
   "execution_count": 42,
   "id": "isolated-hughes",
   "metadata": {
    "execution": {
     "iopub.execute_input": "2022-12-25T17:36:16.597756Z",
     "iopub.status.busy": "2022-12-25T17:36:16.595088Z",
     "iopub.status.idle": "2022-12-25T17:36:16.603843Z",
     "shell.execute_reply": "2022-12-25T17:36:16.603147Z",
     "shell.execute_reply.started": "2022-12-25T17:34:27.814262Z"
    },
    "papermill": {
     "duration": 0.063858,
     "end_time": "2022-12-25T17:36:16.604004",
     "exception": false,
     "start_time": "2022-12-25T17:36:16.540146",
     "status": "completed"
    },
    "tags": []
   },
   "outputs": [
    {
     "data": {
      "text/plain": [
       "array([[149,  14],\n",
       "       [ 39,  65]])"
      ]
     },
     "execution_count": 42,
     "metadata": {},
     "output_type": "execute_result"
    }
   ],
   "source": [
    "confusion_matrix(y_test, predictions)"
   ]
  },
  {
   "cell_type": "markdown",
   "id": "leading-majority",
   "metadata": {
    "papermill": {
     "duration": 0.050493,
     "end_time": "2022-12-25T17:36:16.706230",
     "exception": false,
     "start_time": "2022-12-25T17:36:16.655737",
     "status": "completed"
    },
    "tags": []
   },
   "source": []
  },
  {
   "cell_type": "code",
   "execution_count": null,
   "id": "amazing-checklist",
   "metadata": {
    "papermill": {
     "duration": 0.051368,
     "end_time": "2022-12-25T17:36:16.808576",
     "exception": false,
     "start_time": "2022-12-25T17:36:16.757208",
     "status": "completed"
    },
    "tags": []
   },
   "outputs": [],
   "source": []
  },
  {
   "cell_type": "code",
   "execution_count": null,
   "id": "breeding-violin",
   "metadata": {
    "papermill": {
     "duration": 0.051085,
     "end_time": "2022-12-25T17:36:16.910431",
     "exception": false,
     "start_time": "2022-12-25T17:36:16.859346",
     "status": "completed"
    },
    "tags": []
   },
   "outputs": [],
   "source": []
  }
 ],
 "metadata": {
  "kernelspec": {
   "display_name": "Python 3",
   "language": "python",
   "name": "python3"
  },
  "language_info": {
   "codemirror_mode": {
    "name": "ipython",
    "version": 3
   },
   "file_extension": ".py",
   "mimetype": "text/x-python",
   "name": "python",
   "nbconvert_exporter": "python",
   "pygments_lexer": "ipython3",
   "version": "3.7.10"
  },
  "papermill": {
   "default_parameters": {},
   "duration": 18.925011,
   "end_time": "2022-12-25T17:36:18.603420",
   "environment_variables": {},
   "exception": null,
   "input_path": "__notebook__.ipynb",
   "output_path": "__notebook__.ipynb",
   "parameters": {},
   "start_time": "2022-12-25T17:35:59.678409",
   "version": "2.3.3"
  }
 },
 "nbformat": 4,
 "nbformat_minor": 5
}
