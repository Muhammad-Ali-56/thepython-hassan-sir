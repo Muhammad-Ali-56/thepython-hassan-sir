{
 "cells": [
  {
   "cell_type": "code",
   "execution_count": 1,
   "id": "b6e3acdb",
   "metadata": {},
   "outputs": [],
   "source": [
    "my_name = \"HASSAN\""
   ]
  },
  {
   "cell_type": "code",
   "execution_count": 2,
   "id": "1f1dcaa8",
   "metadata": {},
   "outputs": [],
   "source": [
    "swapping = my_name.swapcase()"
   ]
  },
  {
   "cell_type": "code",
   "execution_count": 3,
   "id": "04247322",
   "metadata": {},
   "outputs": [
    {
     "data": {
      "text/plain": [
       "'hassan'"
      ]
     },
     "execution_count": 3,
     "metadata": {},
     "output_type": "execute_result"
    }
   ],
   "source": [
    "swapping"
   ]
  },
  {
   "cell_type": "code",
   "execution_count": 4,
   "id": "faaa9b0e",
   "metadata": {},
   "outputs": [],
   "source": [
    "magic = swapping.replace(\"a\", 'u')"
   ]
  },
  {
   "cell_type": "code",
   "execution_count": 5,
   "id": "59161b19",
   "metadata": {},
   "outputs": [
    {
     "data": {
      "text/plain": [
       "'hussun'"
      ]
     },
     "execution_count": 5,
     "metadata": {},
     "output_type": "execute_result"
    }
   ],
   "source": [
    "magic"
   ]
  },
  {
   "cell_type": "markdown",
   "id": "62f57bcf",
   "metadata": {},
   "source": [
    "## Defining classes with unique attributes and methods"
   ]
  },
  {
   "cell_type": "code",
   "execution_count": 6,
   "id": "66ee643a",
   "metadata": {},
   "outputs": [],
   "source": [
    "class Spaceship:\n",
    "   # Class attribute\n",
    "   tractor_beam = 'off'\n",
    "\n",
    "   # Instance attributes\n",
    "   def __init__(self, name, kind):\n",
    "       self.name = name\n",
    "       self.kind = kind\n",
    "       self.speed = None\n",
    "\n",
    "  # Instance methods\n",
    "   def warp(self, warp):\n",
    "       self.speed = warp\n",
    "       print(f'Warp {warp}, engage!')\n",
    "\n",
    "   def tractor(self):\n",
    "       if self.tractor_beam == 'off':\n",
    "           self.tractor_beam = 'on'\n",
    "           print('Tractor beam on.')\n",
    "       else:\n",
    "           self.tractor_beam = 'off'\n",
    "           print('Tractor beam off')"
   ]
  },
  {
   "cell_type": "code",
   "execution_count": 7,
   "id": "4df93d58",
   "metadata": {},
   "outputs": [
    {
     "name": "stdout",
     "output_type": "stream",
     "text": [
      "Mockingbird\n",
      "rescue frigate\n",
      "off\n"
     ]
    }
   ],
   "source": [
    "# Create an instance of the Spaceship class (i.e. \"instantiate\")\n",
    "ship = Spaceship('Mockingbird','rescue frigate')\n",
    "\n",
    "# Check ship's name\n",
    "print(ship.name)\n",
    "\n",
    "# Check what kind of ship it is\n",
    "print(ship.kind)\n",
    "\n",
    "# Check tractor beam status\n",
    "print(ship.tractor_beam)"
   ]
  },
  {
   "cell_type": "code",
   "execution_count": 8,
   "id": "469ca7a2",
   "metadata": {},
   "outputs": [
    {
     "name": "stdout",
     "output_type": "stream",
     "text": [
      "Warp 7, engage!\n"
     ]
    },
    {
     "data": {
      "text/plain": [
       "7"
      ]
     },
     "execution_count": 8,
     "metadata": {},
     "output_type": "execute_result"
    }
   ],
   "source": [
    "# Set warp speed\n",
    "ship.warp(7)\n",
    "\n",
    "# Check speed\n",
    "ship.speed"
   ]
  },
  {
   "cell_type": "markdown",
   "id": "658cfae7",
   "metadata": {},
   "source": [
    "# Dynamic Typing \n",
    "\t- Varibles can point to objects of any data type"
   ]
  },
  {
   "cell_type": "code",
   "execution_count": 9,
   "id": "f6e34f64",
   "metadata": {},
   "outputs": [],
   "source": [
    "ages_list = [12,55,10,25,45]"
   ]
  },
  {
   "cell_type": "code",
   "execution_count": 10,
   "id": "482c5ac5",
   "metadata": {},
   "outputs": [],
   "source": [
    "max_age = max(ages_list)"
   ]
  },
  {
   "cell_type": "code",
   "execution_count": 11,
   "id": "d551b58b",
   "metadata": {},
   "outputs": [
    {
     "data": {
      "text/plain": [
       "55"
      ]
     },
     "execution_count": 11,
     "metadata": {},
     "output_type": "execute_result"
    }
   ],
   "source": [
    "max_age"
   ]
  },
  {
   "cell_type": "code",
   "execution_count": 16,
   "id": "fbc77203",
   "metadata": {},
   "outputs": [],
   "source": [
    "def to_celsius(x):\n",
    "    '''Convert Fahrenheit to Celsius'''\n",
    "    return (x-32) * 5/9"
   ]
  },
  {
   "cell_type": "code",
   "execution_count": 17,
   "id": "718972a5",
   "metadata": {},
   "outputs": [
    {
     "data": {
      "text/plain": [
       "23.88888888888889"
      ]
     },
     "execution_count": 17,
     "metadata": {},
     "output_type": "execute_result"
    }
   ],
   "source": [
    "to_celsius(75)"
   ]
  },
  {
   "cell_type": "code",
   "execution_count": null,
   "id": "393dce99",
   "metadata": {},
   "outputs": [],
   "source": []
  }
 ],
 "metadata": {
  "kernelspec": {
   "display_name": "Python 3 (ipykernel)",
   "language": "python",
   "name": "python3"
  },
  "language_info": {
   "codemirror_mode": {
    "name": "ipython",
    "version": 3
   },
   "file_extension": ".py",
   "mimetype": "text/x-python",
   "name": "python",
   "nbconvert_exporter": "python",
   "pygments_lexer": "ipython3",
   "version": "3.10.9"
  }
 },
 "nbformat": 4,
 "nbformat_minor": 5
}
